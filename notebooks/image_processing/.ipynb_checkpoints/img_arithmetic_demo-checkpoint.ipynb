{
 "metadata": {
  "name": "",
  "signature": "sha256:b05f2bcc1d6e6a465ae2bf75e142510fe064ac26e61495170bdec79e1a2a5b55"
 },
 "nbformat": 3,
 "nbformat_minor": 0,
 "worksheets": []
}