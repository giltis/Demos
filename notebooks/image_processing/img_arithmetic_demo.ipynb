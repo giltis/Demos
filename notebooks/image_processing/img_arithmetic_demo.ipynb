{
 "metadata": {
  "name": "",
  "signature": "sha256:ebfc09761485f2c215489bdca96c8e81be06ff3e36f3af3fcaadefb4ce8a8731"
 },
 "nbformat": 3,
 "nbformat_minor": 0,
 "worksheets": [
  {
   "cells": [
    {
     "cell_type": "heading",
     "level": 1,
     "metadata": {},
     "source": [
      "Image Processing: Arithmetic Examples"
     ]
    },
    {
     "cell_type": "heading",
     "level": 3,
     "metadata": {},
     "source": [
      "Import statements for required packages"
     ]
    },
    {
     "cell_type": "markdown",
     "metadata": {},
     "source": [
      "Ipython specific import and loading statements"
     ]
    },
    {
     "cell_type": "code",
     "collapsed": false,
     "input": [
      "#Enable inline plotting within this Ipython notebook\n",
      "%matplotlib inline\n",
      "\n",
      "#Import matplotlib for easy visualization of function inputs and outputs (results)\n",
      "from matplotlib import pyplot as plt"
     ],
     "language": "python",
     "metadata": {},
     "outputs": [],
     "prompt_number": 2
    },
    {
     "cell_type": "markdown",
     "metadata": {},
     "source": [
      "Import statements required for function (tool) use"
     ]
    },
    {
     "cell_type": "code",
     "collapsed": true,
     "input": [
      "from skxray.ap  i.image_processing.arithmetic.basic_math import add, subtract, multiply, divide"
     ],
     "language": "python",
     "metadata": {},
     "outputs": [],
     "prompt_number": 3
    },
    {
     "cell_type": "heading",
     "level": 2,
     "metadata": {},
     "source": [
      "Addition"
     ]
    },
    {
     "cell_type": "heading",
     "level": 3,
     "metadata": {},
     "source": [
      "Common applications or reasons for use:"
     ]
    },
    {
     "cell_type": "markdown",
     "metadata": {},
     "source": [
      "Examples for the following common uses of image addition are provided below. The typical use cases demonstrated below include:\n",
      "- Combining segmented \"materials\" into a single lablefield for quantification (volume, surface area, etc.) and 3D visualization.\n",
      "- "
     ]
    },
    {
     "cell_type": "code",
     "collapsed": false,
     "input": [
      " "
     ],
     "language": "python",
     "metadata": {},
     "outputs": []
    },
    {
     "cell_type": "code",
     "collapsed": false,
     "input": [],
     "language": "python",
     "metadata": {},
     "outputs": []
    },
    {
     "cell_type": "code",
     "collapsed": false,
     "input": [],
     "language": "python",
     "metadata": {},
     "outputs": []
    },
    {
     "cell_type": "heading",
     "level": 2,
     "metadata": {},
     "source": [
      "Subtraction"
     ]
    },
    {
     "cell_type": "heading",
     "level": 2,
     "metadata": {},
     "source": [
      "Multiplication"
     ]
    },
    {
     "cell_type": "heading",
     "level": 2,
     "metadata": {},
     "source": [
      "Division"
     ]
    },
    {
     "cell_type": "code",
     "collapsed": false,
     "input": [],
     "language": "python",
     "metadata": {},
     "outputs": []
    }
   ],
   "metadata": {}
  }
 ]
}