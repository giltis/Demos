{
 "cells": [
  {
   "cell_type": "code",
   "execution_count": 2,
   "metadata": {
    "collapsed": false,
    "scrolled": true
   },
   "outputs": [],
   "source": [
    "import filestore\n",
    "import metadatastore\n",
    "import suitcase\n",
    "import dataportal"
   ]
  },
  {
   "cell_type": "markdown",
   "metadata": {},
   "source": [
    "## Access sample data from DataBroker"
   ]
  },
  {
   "cell_type": "markdown",
   "metadata": {},
   "source": [
    "### Interaction with data from the Image sythetic test script"
   ]
  },
  {
   "cell_type": "markdown",
   "metadata": {},
   "source": [
    "This sample data was generated using the setup/demonstration script included in XXX. The data is synthetic, but will be used to illustrate the export and file conversion functions and tools included in the suitcase package."
   ]
  },
  {
   "cell_type": "code",
   "execution_count": 79,
   "metadata": {
    "collapsed": false
   },
   "outputs": [
    {
     "data": {
      "text/html": [
       "\n",
       "<div class=\"panel-group\" id=\"accordian-78dba635-dbbd-4d11-88b0-c4a6fac322ba\" role=\"tablist\" aria-multiselectable=\"true\">\n",
       "  <div class=\"panel panel-default\">\n",
       "    <div class=\"panel-heading\" role=\"tab\" id=\"heading-22eafbf8-4ade-48b0-813c-0f2faae9733e\" style=\"text-overflow: ellipsis; white-space: nowrap; overflow: hidden;\">\n",
       "      <h4 class=\"panel-title\">\n",
       "        <a data-toggle=\"collapse\" data-parent=\"#accordion-78dba635-dbbd-4d11-88b0-c4a6fac322ba\" href=\"#collapse-22eafbf8-4ade-48b0-813c-0f2faae9733e\" aria-expanded=\"false\" aria-controls=\"collapse-22eafbf8-4ade-48b0-813c-0f2faae9733e\">\n",
       "          Header: Scan 2 &nbsp; <span style=\"color: #AAAAAA;\">a month ago</span>\n",
       "        </a>\n",
       "      </h4>\n",
       "    </div>\n",
       "    <div id=\"collapse-22eafbf8-4ade-48b0-813c-0f2faae9733e\" class=\"panel-collapse collapse\" role=\"tabpanel\" aria-labelledby=\"heading-22eafbf8-4ade-48b0-813c-0f2faae9733e\">\n",
       "      <div class=\"panel-body\">\n",
       "        <table><tr><td>beamline_config</td><td><table><tr><td>config_params</td><td><table><tr><td>my_beamline</td><td>my_value</td></tr></table></td></tr><tr><td>time</td><td>1438723172.77</td></tr><tr><td>time_as_datetime</td><td>2015-08-04 17:19:32.774839  (a month ago)</td></tr><tr><td>uid</td><td>449f3b77-d3a1-458d-b617-a295b2002fb4</td></tr></table></td></tr><tr><td>beamline_id</td><td>csx</td></tr><tr><td>event_descriptors</td><td><table style='border: none;'><tr style='border: none;' ><td style='border: none;'><table><tr><td>data_keys</td><td><table><tr><td>img</td><td><table><tr><td>dtype</td><td>array</td></tr><tr><td>external</td><td>FILESTORE:</td></tr><tr><td>shape</td><td><table style='border: none;'><tr style='border: none;' ><td style='border: none;'>5</td></tr><tr style='border: none;' ><td style='border: none;'>5</td></tr></table></td></tr><tr><td>source</td><td>CCD</td></tr></table></td></tr><tr><td>img_sum_x</td><td><table><tr><td>dtype</td><td>array</td></tr><tr><td>external</td><td>FILESTORE:</td></tr><tr><td>shape</td><td><table style='border: none;'><tr style='border: none;' ><td style='border: none;'>5</td></tr></table></td></tr><tr><td>source</td><td>CCD:xsum</td></tr></table></td></tr><tr><td>img_sum_y</td><td><table><tr><td>dtype</td><td>array</td></tr><tr><td>external</td><td>FILESTORE:</td></tr><tr><td>shape</td><td><table style='border: none;'><tr style='border: none;' ><td style='border: none;'>5</td></tr></table></td></tr><tr><td>source</td><td>CCD:ysum</td></tr></table></td></tr><tr><td>img_x_max</td><td><table><tr><td>dtype</td><td>number</td></tr><tr><td>external</td><td>None</td></tr><tr><td>shape</td><td><table style='border: none;'></table></td></tr><tr><td>source</td><td>CCD:xmax</td></tr></table></td></tr><tr><td>img_y_max</td><td><table><tr><td>dtype</td><td>number</td></tr><tr><td>external</td><td>None</td></tr><tr><td>shape</td><td><table style='border: none;'></table></td></tr><tr><td>source</td><td>CCD:ymax</td></tr></table></td></tr><tr><td>linear_motor</td><td><table><tr><td>dtype</td><td>number</td></tr><tr><td>external</td><td>None</td></tr><tr><td>shape</td><td><table style='border: none;'></table></td></tr><tr><td>source</td><td>PV:ES:sam_x</td></tr></table></td></tr><tr><td>total_img_sum</td><td><table><tr><td>dtype</td><td>number</td></tr><tr><td>external</td><td>None</td></tr><tr><td>shape</td><td><table style='border: none;'></table></td></tr><tr><td>source</td><td>CCD:sum</td></tr></table></td></tr></table></td></tr><tr><td>run_start</td><td>22eafbf8-4ade-48b0-813c-0f2faae9733e</td></tr><tr><td>time</td><td>0.0</td></tr><tr><td>time_as_datetime</td><td>1969-12-31 19:00:00  (45 years ago)</td></tr><tr><td>uid</td><td>de93900b-a4a3-4c27-934d-bd30cdcfb972</td></tr></table></td></tr><tr style='border: none;' ><td style='border: none;'><table><tr><td>data_keys</td><td><table><tr><td>Tsam</td><td><table><tr><td>dtype</td><td>number</td></tr><tr><td>external</td><td>None</td></tr><tr><td>shape</td><td><table style='border: none;'></table></td></tr><tr><td>source</td><td>PV:ES:Tsam</td></tr></table></td></tr></table></td></tr><tr><td>run_start</td><td>22eafbf8-4ade-48b0-813c-0f2faae9733e</td></tr><tr><td>time</td><td>0.0</td></tr><tr><td>time_as_datetime</td><td>1969-12-31 19:00:00  (45 years ago)</td></tr><tr><td>uid</td><td>ac11ac30-3e22-44df-932a-dae8466c3656</td></tr></table></td></tr></table></td></tr><tr><td>exit_reason</td><td>run completed</td></tr><tr><td>exit_status</td><td>success</td></tr><tr><td>group</td><td></td></tr><tr><td>moon</td><td>full</td></tr><tr><td>owner</td><td></td></tr><tr><td>plotx</td><td>linear_motor</td></tr><tr><td>ploty</td><td><table style='border: none;'><tr style='border: none;' ><td style='border: none;'>total_img_sum</td></tr></table></td></tr><tr><td>project</td><td></td></tr><tr><td>run_start_uid</td><td>22eafbf8-4ade-48b0-813c-0f2faae9733e</td></tr><tr><td>run_stop_uid</td><td>6638116b-c776-49ba-8b52-7aba1c6c8b31</td></tr><tr><td>sample</td><td><table></table></td></tr><tr><td>scan_id</td><td>2</td></tr><tr><td>start_datetime</td><td>2015-08-04 17:19:32.781343  (a month ago)</td></tr><tr><td>start_time</td><td>1438723172.78</td></tr><tr><td>stop_datetime</td><td>2015-08-04 17:19:34.057481  (a month ago)</td></tr><tr><td>stop_time</td><td>1438723174.06</td></tr></table>\n",
       "      </div>\n",
       "    </div>\n",
       "  </div>\n",
       "        \n",
       "  <div class=\"panel panel-default\">\n",
       "    <div class=\"panel-heading\" role=\"tab\" id=\"heading-e054775f-4602-4f36-93d4-eebb4c4b1b00\" style=\"text-overflow: ellipsis; white-space: nowrap; overflow: hidden;\">\n",
       "      <h4 class=\"panel-title\">\n",
       "        <a data-toggle=\"collapse\" data-parent=\"#accordion-78dba635-dbbd-4d11-88b0-c4a6fac322ba\" href=\"#collapse-e054775f-4602-4f36-93d4-eebb4c4b1b00\" aria-expanded=\"false\" aria-controls=\"collapse-e054775f-4602-4f36-93d4-eebb4c4b1b00\">\n",
       "          Header: Scan 1 &nbsp; <span style=\"color: #AAAAAA;\">a month ago</span>\n",
       "        </a>\n",
       "      </h4>\n",
       "    </div>\n",
       "    <div id=\"collapse-e054775f-4602-4f36-93d4-eebb4c4b1b00\" class=\"panel-collapse collapse\" role=\"tabpanel\" aria-labelledby=\"heading-e054775f-4602-4f36-93d4-eebb4c4b1b00\">\n",
       "      <div class=\"panel-body\">\n",
       "        <table><tr><td>beamline_config</td><td><table><tr><td>config_params</td><td><table></table></td></tr><tr><td>time</td><td>1438723156.64</td></tr><tr><td>time_as_datetime</td><td>2015-08-04 17:19:16.641067  (a month ago)</td></tr><tr><td>uid</td><td>83e9c999-ed81-4613-bae7-6acfd56968f6</td></tr></table></td></tr><tr><td>beamline_id</td><td>example</td></tr><tr><td>event_descriptors</td><td><table style='border: none;'><tr style='border: none;' ><td style='border: none;'><table><tr><td>data_keys</td><td><table><tr><td>Tsam</td><td><table><tr><td>dtype</td><td>number</td></tr><tr><td>external</td><td>None</td></tr><tr><td>shape</td><td><table style='border: none;'></table></td></tr><tr><td>source</td><td>PV:ES:Tsam</td></tr></table></td></tr><tr><td>point_det</td><td><table><tr><td>dtype</td><td>number</td></tr><tr><td>external</td><td>None</td></tr><tr><td>shape</td><td><table style='border: none;'></table></td></tr><tr><td>source</td><td>PV:ES:point_det</td></tr></table></td></tr></table></td></tr><tr><td>run_start</td><td>e054775f-4602-4f36-93d4-eebb4c4b1b00</td></tr><tr><td>time</td><td>0.0</td></tr><tr><td>time_as_datetime</td><td>1969-12-31 19:00:00  (45 years ago)</td></tr><tr><td>uid</td><td>cae056b1-3410-4706-a180-965aea63b600</td></tr></table></td></tr></table></td></tr><tr><td>exit_reason</td><td>None</td></tr><tr><td>exit_status</td><td>success</td></tr><tr><td>group</td><td></td></tr><tr><td>owner</td><td></td></tr><tr><td>project</td><td></td></tr><tr><td>run_start_uid</td><td>e054775f-4602-4f36-93d4-eebb4c4b1b00</td></tr><tr><td>run_stop_uid</td><td>dbcf900d-61a4-40ec-951a-860bfe310454</td></tr><tr><td>sample</td><td><table></table></td></tr><tr><td>scan_id</td><td>1</td></tr><tr><td>start_datetime</td><td>2015-08-04 17:19:16.643858  (a month ago)</td></tr><tr><td>start_time</td><td>1438723156.64</td></tr><tr><td>stop_datetime</td><td>2015-08-04 17:19:16.664668  (a month ago)</td></tr><tr><td>stop_time</td><td>1438723156.66</td></tr></table>\n",
       "      </div>\n",
       "    </div>\n",
       "  </div>\n",
       "        \n",
       "  <div class=\"panel panel-default\">\n",
       "    <div class=\"panel-heading\" role=\"tab\" id=\"heading-ed3aecee-ff46-486f-a8f2-77ea48fb9524\" style=\"text-overflow: ellipsis; white-space: nowrap; overflow: hidden;\">\n",
       "      <h4 class=\"panel-title\">\n",
       "        <a data-toggle=\"collapse\" data-parent=\"#accordion-78dba635-dbbd-4d11-88b0-c4a6fac322ba\" href=\"#collapse-ed3aecee-ff46-486f-a8f2-77ea48fb9524\" aria-expanded=\"false\" aria-controls=\"collapse-ed3aecee-ff46-486f-a8f2-77ea48fb9524\">\n",
       "          Header: Scan 3022014 &nbsp; <span style=\"color: #AAAAAA;\">a month ago</span>\n",
       "        </a>\n",
       "      </h4>\n",
       "    </div>\n",
       "    <div id=\"collapse-ed3aecee-ff46-486f-a8f2-77ea48fb9524\" class=\"panel-collapse collapse\" role=\"tabpanel\" aria-labelledby=\"heading-ed3aecee-ff46-486f-a8f2-77ea48fb9524\">\n",
       "      <div class=\"panel-body\">\n",
       "        <table><tr><td>beamline_config</td><td><table><tr><td>config_params</td><td><table><tr><td>my_beamline</td><td>my_value</td></tr></table></td></tr><tr><td>time</td><td>1438723155.93</td></tr><tr><td>time_as_datetime</td><td>2015-08-04 17:19:15.932898  (a month ago)</td></tr><tr><td>uid</td><td>47897aaf-fea7-48fc-b283-915a923f6a8f</td></tr></table></td></tr><tr><td>beamline_id</td><td>csx</td></tr><tr><td>event_descriptors</td><td><table style='border: none;'><tr style='border: none;' ><td style='border: none;'><table><tr><td>data_keys</td><td><table><tr><td>img</td><td><table><tr><td>dtype</td><td>array</td></tr><tr><td>external</td><td>FILESTORE:</td></tr><tr><td>shape</td><td><table style='border: none;'><tr style='border: none;' ><td style='border: none;'>5</td></tr><tr style='border: none;' ><td style='border: none;'>5</td></tr></table></td></tr><tr><td>source</td><td>CCD</td></tr></table></td></tr><tr><td>img_sum_x</td><td><table><tr><td>dtype</td><td>array</td></tr><tr><td>external</td><td>FILESTORE:</td></tr><tr><td>shape</td><td><table style='border: none;'><tr style='border: none;' ><td style='border: none;'>5</td></tr></table></td></tr><tr><td>source</td><td>CCD:xsum</td></tr></table></td></tr><tr><td>img_sum_y</td><td><table><tr><td>dtype</td><td>array</td></tr><tr><td>external</td><td>FILESTORE:</td></tr><tr><td>shape</td><td><table style='border: none;'><tr style='border: none;' ><td style='border: none;'>5</td></tr></table></td></tr><tr><td>source</td><td>CCD:ysum</td></tr></table></td></tr><tr><td>img_x_max</td><td><table><tr><td>dtype</td><td>number</td></tr><tr><td>external</td><td>None</td></tr><tr><td>shape</td><td><table style='border: none;'></table></td></tr><tr><td>source</td><td>CCD:xmax</td></tr></table></td></tr><tr><td>img_y_max</td><td><table><tr><td>dtype</td><td>number</td></tr><tr><td>external</td><td>None</td></tr><tr><td>shape</td><td><table style='border: none;'></table></td></tr><tr><td>source</td><td>CCD:ymax</td></tr></table></td></tr><tr><td>linear_motor</td><td><table><tr><td>dtype</td><td>number</td></tr><tr><td>external</td><td>None</td></tr><tr><td>shape</td><td><table style='border: none;'></table></td></tr><tr><td>source</td><td>PV:ES:sam_x</td></tr></table></td></tr><tr><td>total_img_sum</td><td><table><tr><td>dtype</td><td>number</td></tr><tr><td>external</td><td>None</td></tr><tr><td>shape</td><td><table style='border: none;'></table></td></tr><tr><td>source</td><td>CCD:sum</td></tr></table></td></tr></table></td></tr><tr><td>run_start</td><td>ed3aecee-ff46-486f-a8f2-77ea48fb9524</td></tr><tr><td>time</td><td>0.0</td></tr><tr><td>time_as_datetime</td><td>1969-12-31 19:00:00  (45 years ago)</td></tr><tr><td>uid</td><td>f2974c67-f35b-4d1d-9231-4d0aa1a88890</td></tr></table></td></tr><tr style='border: none;' ><td style='border: none;'><table><tr><td>data_keys</td><td><table><tr><td>Tsam</td><td><table><tr><td>dtype</td><td>number</td></tr><tr><td>external</td><td>None</td></tr><tr><td>shape</td><td><table style='border: none;'></table></td></tr><tr><td>source</td><td>PV:ES:Tsam</td></tr></table></td></tr></table></td></tr><tr><td>run_start</td><td>ed3aecee-ff46-486f-a8f2-77ea48fb9524</td></tr><tr><td>time</td><td>0.0</td></tr><tr><td>time_as_datetime</td><td>1969-12-31 19:00:00  (45 years ago)</td></tr><tr><td>uid</td><td>3802823f-33b5-4541-917b-03534b1937e4</td></tr></table></td></tr></table></td></tr><tr><td>exit_reason</td><td>run completed</td></tr><tr><td>exit_status</td><td>success</td></tr><tr><td>group</td><td></td></tr><tr><td>moon</td><td>full</td></tr><tr><td>owner</td><td></td></tr><tr><td>plotx</td><td>linear_motor</td></tr><tr><td>ploty</td><td><table style='border: none;'><tr style='border: none;' ><td style='border: none;'>total_img_sum</td></tr></table></td></tr><tr><td>project</td><td></td></tr><tr><td>run_start_uid</td><td>ed3aecee-ff46-486f-a8f2-77ea48fb9524</td></tr><tr><td>run_stop_uid</td><td>627f4aef-cb42-4436-ab7c-c1dd71c17715</td></tr><tr><td>sample</td><td><table></table></td></tr><tr><td>scan_id</td><td>3022014</td></tr><tr><td>start_datetime</td><td>2015-08-04 17:19:15.938899  (a month ago)</td></tr><tr><td>start_time</td><td>1438723155.94</td></tr><tr><td>stop_datetime</td><td>2015-08-04 17:19:17.510122  (a month ago)</td></tr><tr><td>stop_time</td><td>1438723157.51</td></tr></table>\n",
       "      </div>\n",
       "    </div>\n",
       "  </div>\n",
       "        \n",
       "  <div class=\"panel panel-default\">\n",
       "    <div class=\"panel-heading\" role=\"tab\" id=\"heading-a91a858d-5349-492b-a06e-fc16ec7886d6\" style=\"text-overflow: ellipsis; white-space: nowrap; overflow: hidden;\">\n",
       "      <h4 class=\"panel-title\">\n",
       "        <a data-toggle=\"collapse\" data-parent=\"#accordion-78dba635-dbbd-4d11-88b0-c4a6fac322ba\" href=\"#collapse-a91a858d-5349-492b-a06e-fc16ec7886d6\" aria-expanded=\"false\" aria-controls=\"collapse-a91a858d-5349-492b-a06e-fc16ec7886d6\">\n",
       "          Header: Scan 3022013 &nbsp; <span style=\"color: #AAAAAA;\">a month ago</span>\n",
       "        </a>\n",
       "      </h4>\n",
       "    </div>\n",
       "    <div id=\"collapse-a91a858d-5349-492b-a06e-fc16ec7886d6\" class=\"panel-collapse collapse\" role=\"tabpanel\" aria-labelledby=\"heading-a91a858d-5349-492b-a06e-fc16ec7886d6\">\n",
       "      <div class=\"panel-body\">\n",
       "        <table><tr><td>beamline_config</td><td><table><tr><td>config_params</td><td><table></table></td></tr><tr><td>time</td><td>1438723153.45</td></tr><tr><td>time_as_datetime</td><td>2015-08-04 17:19:13.454291  (a month ago)</td></tr><tr><td>uid</td><td>29077aff-7656-4d58-8396-e257ca647d5b</td></tr></table></td></tr><tr><td>beamline_id</td><td>testbed</td></tr><tr><td>event_descriptors</td><td><table style='border: none;'><tr style='border: none;' ><td style='border: none;'><table><tr><td>data_keys</td><td><table><tr><td>Tsam</td><td><table><tr><td>dtype</td><td>number</td></tr><tr><td>external</td><td>None</td></tr><tr><td>shape</td><td><table style='border: none;'></table></td></tr><tr><td>source</td><td>PV:ES:Tsam</td></tr></table></td></tr></table></td></tr><tr><td>run_start</td><td>a91a858d-5349-492b-a06e-fc16ec7886d6</td></tr><tr><td>time</td><td>1438723153.47</td></tr><tr><td>time_as_datetime</td><td>2015-08-04 17:19:13.465706  (a month ago)</td></tr><tr><td>uid</td><td>1cab955c-9c8e-4640-9a85-42926f7d9673</td></tr></table></td></tr><tr style='border: none;' ><td style='border: none;'><table><tr><td>data_keys</td><td><table><tr><td>point_det</td><td><table><tr><td>dtype</td><td>number</td></tr><tr><td>external</td><td>None</td></tr><tr><td>shape</td><td><table style='border: none;'></table></td></tr><tr><td>source</td><td>PV:ES:PointDet</td></tr></table></td></tr></table></td></tr><tr><td>run_start</td><td>a91a858d-5349-492b-a06e-fc16ec7886d6</td></tr><tr><td>time</td><td>1438723153.46</td></tr><tr><td>time_as_datetime</td><td>2015-08-04 17:19:13.460120  (a month ago)</td></tr><tr><td>uid</td><td>531cd008-0245-4992-828a-734689ce2ccb</td></tr></table></td></tr></table></td></tr><tr><td>exit_reason</td><td>None</td></tr><tr><td>exit_status</td><td>success</td></tr><tr><td>group</td><td>awesome-devs</td></tr><tr><td>owner</td><td>tester</td></tr><tr><td>project</td><td>Nikea</td></tr><tr><td>run_start_uid</td><td>a91a858d-5349-492b-a06e-fc16ec7886d6</td></tr><tr><td>run_stop_uid</td><td>bd2b0f42-b316-4299-a89f-678ccffe553f</td></tr><tr><td>sample</td><td><table></table></td></tr><tr><td>scan_id</td><td>3022013</td></tr><tr><td>start_datetime</td><td>2015-08-04 17:19:13.456617  (a month ago)</td></tr><tr><td>start_time</td><td>1438723153.46</td></tr><tr><td>stop_datetime</td><td>2015-08-04 17:19:13.548795  (a month ago)</td></tr><tr><td>stop_time</td><td>1438723153.55</td></tr></table>\n",
       "      </div>\n",
       "    </div>\n",
       "  </div>\n",
       "        \n",
       "  <div class=\"panel panel-default\">\n",
       "    <div class=\"panel-heading\" role=\"tab\" id=\"heading-db6ef54d-2bc8-4b41-9c2c-437e0d1de291\" style=\"text-overflow: ellipsis; white-space: nowrap; overflow: hidden;\">\n",
       "      <h4 class=\"panel-title\">\n",
       "        <a data-toggle=\"collapse\" data-parent=\"#accordion-78dba635-dbbd-4d11-88b0-c4a6fac322ba\" href=\"#collapse-db6ef54d-2bc8-4b41-9c2c-437e0d1de291\" aria-expanded=\"false\" aria-controls=\"collapse-db6ef54d-2bc8-4b41-9c2c-437e0d1de291\">\n",
       "          Header: Scan 5 &nbsp; <span style=\"color: #AAAAAA;\">a month ago</span>\n",
       "        </a>\n",
       "      </h4>\n",
       "    </div>\n",
       "    <div id=\"collapse-db6ef54d-2bc8-4b41-9c2c-437e0d1de291\" class=\"panel-collapse collapse\" role=\"tabpanel\" aria-labelledby=\"heading-db6ef54d-2bc8-4b41-9c2c-437e0d1de291\">\n",
       "      <div class=\"panel-body\">\n",
       "        <table><tr><td>beamline_config</td><td><table><tr><td>config_params</td><td><table><tr><td>my_beamline</td><td>my_value</td></tr></table></td></tr><tr><td>time</td><td>1438722824.89</td></tr><tr><td>time_as_datetime</td><td>2015-08-04 17:13:44.888042  (a month ago)</td></tr><tr><td>uid</td><td>15d0eda0-0cbb-4c8e-aadf-3971958940c3</td></tr></table></td></tr><tr><td>beamline_id</td><td>csx</td></tr><tr><td>event_descriptors</td><td><table style='border: none;'><tr style='border: none;' ><td style='border: none;'><table><tr><td>data_keys</td><td><table><tr><td>img</td><td><table><tr><td>dtype</td><td>array</td></tr><tr><td>external</td><td>FILESTORE:</td></tr><tr><td>shape</td><td><table style='border: none;'><tr style='border: none;' ><td style='border: none;'>5</td></tr><tr style='border: none;' ><td style='border: none;'>5</td></tr></table></td></tr><tr><td>source</td><td>CCD</td></tr></table></td></tr><tr><td>img_sum_x</td><td><table><tr><td>dtype</td><td>array</td></tr><tr><td>external</td><td>FILESTORE:</td></tr><tr><td>shape</td><td><table style='border: none;'><tr style='border: none;' ><td style='border: none;'>5</td></tr></table></td></tr><tr><td>source</td><td>CCD:xsum</td></tr></table></td></tr><tr><td>img_sum_y</td><td><table><tr><td>dtype</td><td>array</td></tr><tr><td>external</td><td>FILESTORE:</td></tr><tr><td>shape</td><td><table style='border: none;'><tr style='border: none;' ><td style='border: none;'>5</td></tr></table></td></tr><tr><td>source</td><td>CCD:ysum</td></tr></table></td></tr><tr><td>img_x_max</td><td><table><tr><td>dtype</td><td>number</td></tr><tr><td>external</td><td>None</td></tr><tr><td>shape</td><td><table style='border: none;'></table></td></tr><tr><td>source</td><td>CCD:xmax</td></tr></table></td></tr><tr><td>img_y_max</td><td><table><tr><td>dtype</td><td>number</td></tr><tr><td>external</td><td>None</td></tr><tr><td>shape</td><td><table style='border: none;'></table></td></tr><tr><td>source</td><td>CCD:ymax</td></tr></table></td></tr><tr><td>linear_motor</td><td><table><tr><td>dtype</td><td>number</td></tr><tr><td>external</td><td>None</td></tr><tr><td>shape</td><td><table style='border: none;'></table></td></tr><tr><td>source</td><td>PV:ES:sam_x</td></tr></table></td></tr><tr><td>total_img_sum</td><td><table><tr><td>dtype</td><td>number</td></tr><tr><td>external</td><td>None</td></tr><tr><td>shape</td><td><table style='border: none;'></table></td></tr><tr><td>source</td><td>CCD:sum</td></tr></table></td></tr></table></td></tr><tr><td>run_start</td><td>db6ef54d-2bc8-4b41-9c2c-437e0d1de291</td></tr><tr><td>time</td><td>0.0</td></tr><tr><td>time_as_datetime</td><td>1969-12-31 19:00:00  (45 years ago)</td></tr><tr><td>uid</td><td>059f7926-636e-4a49-947a-cd1979c3a62a</td></tr></table></td></tr><tr style='border: none;' ><td style='border: none;'><table><tr><td>data_keys</td><td><table><tr><td>Tsam</td><td><table><tr><td>dtype</td><td>number</td></tr><tr><td>external</td><td>None</td></tr><tr><td>shape</td><td><table style='border: none;'></table></td></tr><tr><td>source</td><td>PV:ES:Tsam</td></tr></table></td></tr></table></td></tr><tr><td>run_start</td><td>db6ef54d-2bc8-4b41-9c2c-437e0d1de291</td></tr><tr><td>time</td><td>0.0</td></tr><tr><td>time_as_datetime</td><td>1969-12-31 19:00:00  (45 years ago)</td></tr><tr><td>uid</td><td>3289c82a-7e9c-444e-adb9-1e895c374788</td></tr></table></td></tr></table></td></tr><tr><td>group</td><td></td></tr><tr><td>moon</td><td>full</td></tr><tr><td>owner</td><td></td></tr><tr><td>plotx</td><td>linear_motor</td></tr><tr><td>ploty</td><td><table style='border: none;'><tr style='border: none;' ><td style='border: none;'>total_img_sum</td></tr></table></td></tr><tr><td>project</td><td></td></tr><tr><td>run_start_uid</td><td>db6ef54d-2bc8-4b41-9c2c-437e0d1de291</td></tr><tr><td>sample</td><td><table></table></td></tr><tr><td>scan_id</td><td>5</td></tr><tr><td>start_datetime</td><td>2015-08-04 17:13:44.896288  (a month ago)</td></tr><tr><td>start_time</td><td>1438722824.9</td></tr></table>\n",
       "      </div>\n",
       "    </div>\n",
       "  </div>\n",
       "        \n",
       "  <div class=\"panel panel-default\">\n",
       "    <div class=\"panel-heading\" role=\"tab\" id=\"heading-0fe9b897-a291-4af6-8a82-7f34040dde2f\" style=\"text-overflow: ellipsis; white-space: nowrap; overflow: hidden;\">\n",
       "      <h4 class=\"panel-title\">\n",
       "        <a data-toggle=\"collapse\" data-parent=\"#accordion-78dba635-dbbd-4d11-88b0-c4a6fac322ba\" href=\"#collapse-0fe9b897-a291-4af6-8a82-7f34040dde2f\" aria-expanded=\"false\" aria-controls=\"collapse-0fe9b897-a291-4af6-8a82-7f34040dde2f\">\n",
       "          Header: Scan 4 &nbsp; <span style=\"color: #AAAAAA;\">a month ago</span>\n",
       "        </a>\n",
       "      </h4>\n",
       "    </div>\n",
       "    <div id=\"collapse-0fe9b897-a291-4af6-8a82-7f34040dde2f\" class=\"panel-collapse collapse\" role=\"tabpanel\" aria-labelledby=\"heading-0fe9b897-a291-4af6-8a82-7f34040dde2f\">\n",
       "      <div class=\"panel-body\">\n",
       "        <table><tr><td>beamline_config</td><td><table><tr><td>config_params</td><td><table><tr><td>my_beamline</td><td>my_value</td></tr></table></td></tr><tr><td>time</td><td>1438722334.0</td></tr><tr><td>time_as_datetime</td><td>2015-08-04 17:05:34.000073  (a month ago)</td></tr><tr><td>uid</td><td>9505427c-9c64-45c7-bdc0-2e92a490fb5c</td></tr></table></td></tr><tr><td>beamline_id</td><td>csx</td></tr><tr><td>event_descriptors</td><td><table style='border: none;'><tr style='border: none;' ><td style='border: none;'><table><tr><td>data_keys</td><td><table><tr><td>img</td><td><table><tr><td>dtype</td><td>array</td></tr><tr><td>external</td><td>FILESTORE:</td></tr><tr><td>shape</td><td><table style='border: none;'><tr style='border: none;' ><td style='border: none;'>5</td></tr><tr style='border: none;' ><td style='border: none;'>5</td></tr></table></td></tr><tr><td>source</td><td>CCD</td></tr></table></td></tr><tr><td>img_sum_x</td><td><table><tr><td>dtype</td><td>array</td></tr><tr><td>external</td><td>FILESTORE:</td></tr><tr><td>shape</td><td><table style='border: none;'><tr style='border: none;' ><td style='border: none;'>5</td></tr></table></td></tr><tr><td>source</td><td>CCD:xsum</td></tr></table></td></tr><tr><td>img_sum_y</td><td><table><tr><td>dtype</td><td>array</td></tr><tr><td>external</td><td>FILESTORE:</td></tr><tr><td>shape</td><td><table style='border: none;'><tr style='border: none;' ><td style='border: none;'>5</td></tr></table></td></tr><tr><td>source</td><td>CCD:ysum</td></tr></table></td></tr><tr><td>img_x_max</td><td><table><tr><td>dtype</td><td>number</td></tr><tr><td>external</td><td>None</td></tr><tr><td>shape</td><td><table style='border: none;'></table></td></tr><tr><td>source</td><td>CCD:xmax</td></tr></table></td></tr><tr><td>img_y_max</td><td><table><tr><td>dtype</td><td>number</td></tr><tr><td>external</td><td>None</td></tr><tr><td>shape</td><td><table style='border: none;'></table></td></tr><tr><td>source</td><td>CCD:ymax</td></tr></table></td></tr><tr><td>linear_motor</td><td><table><tr><td>dtype</td><td>number</td></tr><tr><td>external</td><td>None</td></tr><tr><td>shape</td><td><table style='border: none;'></table></td></tr><tr><td>source</td><td>PV:ES:sam_x</td></tr></table></td></tr><tr><td>total_img_sum</td><td><table><tr><td>dtype</td><td>number</td></tr><tr><td>external</td><td>None</td></tr><tr><td>shape</td><td><table style='border: none;'></table></td></tr><tr><td>source</td><td>CCD:sum</td></tr></table></td></tr></table></td></tr><tr><td>run_start</td><td>0fe9b897-a291-4af6-8a82-7f34040dde2f</td></tr><tr><td>time</td><td>0.0</td></tr><tr><td>time_as_datetime</td><td>1969-12-31 19:00:00  (45 years ago)</td></tr><tr><td>uid</td><td>061d9f2a-5752-4864-891b-3727548b2f99</td></tr></table></td></tr><tr style='border: none;' ><td style='border: none;'><table><tr><td>data_keys</td><td><table><tr><td>Tsam</td><td><table><tr><td>dtype</td><td>number</td></tr><tr><td>external</td><td>None</td></tr><tr><td>shape</td><td><table style='border: none;'></table></td></tr><tr><td>source</td><td>PV:ES:Tsam</td></tr></table></td></tr></table></td></tr><tr><td>run_start</td><td>0fe9b897-a291-4af6-8a82-7f34040dde2f</td></tr><tr><td>time</td><td>0.0</td></tr><tr><td>time_as_datetime</td><td>1969-12-31 19:00:00  (45 years ago)</td></tr><tr><td>uid</td><td>c25afa9f-b333-48e2-becd-a29e4333de27</td></tr></table></td></tr></table></td></tr><tr><td>group</td><td></td></tr><tr><td>moon</td><td>full</td></tr><tr><td>owner</td><td></td></tr><tr><td>plotx</td><td>linear_motor</td></tr><tr><td>ploty</td><td><table style='border: none;'><tr style='border: none;' ><td style='border: none;'>total_img_sum</td></tr></table></td></tr><tr><td>project</td><td></td></tr><tr><td>run_start_uid</td><td>0fe9b897-a291-4af6-8a82-7f34040dde2f</td></tr><tr><td>sample</td><td><table></table></td></tr><tr><td>scan_id</td><td>4</td></tr><tr><td>start_datetime</td><td>2015-08-04 17:05:34.007880  (a month ago)</td></tr><tr><td>start_time</td><td>1438722334.01</td></tr></table>\n",
       "      </div>\n",
       "    </div>\n",
       "  </div>\n",
       "        \n",
       "  <div class=\"panel panel-default\">\n",
       "    <div class=\"panel-heading\" role=\"tab\" id=\"heading-6eca8b25-37a3-4f77-9845-e7a3813c9d2f\" style=\"text-overflow: ellipsis; white-space: nowrap; overflow: hidden;\">\n",
       "      <h4 class=\"panel-title\">\n",
       "        <a data-toggle=\"collapse\" data-parent=\"#accordion-78dba635-dbbd-4d11-88b0-c4a6fac322ba\" href=\"#collapse-6eca8b25-37a3-4f77-9845-e7a3813c9d2f\" aria-expanded=\"false\" aria-controls=\"collapse-6eca8b25-37a3-4f77-9845-e7a3813c9d2f\">\n",
       "          Header: Scan 3 &nbsp; <span style=\"color: #AAAAAA;\">a month ago</span>\n",
       "        </a>\n",
       "      </h4>\n",
       "    </div>\n",
       "    <div id=\"collapse-6eca8b25-37a3-4f77-9845-e7a3813c9d2f\" class=\"panel-collapse collapse\" role=\"tabpanel\" aria-labelledby=\"heading-6eca8b25-37a3-4f77-9845-e7a3813c9d2f\">\n",
       "      <div class=\"panel-body\">\n",
       "        <table><tr><td>beamline_config</td><td><table><tr><td>config_params</td><td><table><tr><td>my_beamline</td><td>my_value</td></tr></table></td></tr><tr><td>time</td><td>1438721663.14</td></tr><tr><td>time_as_datetime</td><td>2015-08-04 16:54:23.144029  (a month ago)</td></tr><tr><td>uid</td><td>27660b8f-cf09-44f4-9d3e-1e8e9c88fe68</td></tr></table></td></tr><tr><td>beamline_id</td><td>csx</td></tr><tr><td>event_descriptors</td><td><table style='border: none;'><tr style='border: none;' ><td style='border: none;'><table><tr><td>data_keys</td><td><table><tr><td>img</td><td><table><tr><td>dtype</td><td>array</td></tr><tr><td>external</td><td>FILESTORE:</td></tr><tr><td>shape</td><td><table style='border: none;'><tr style='border: none;' ><td style='border: none;'>5</td></tr><tr style='border: none;' ><td style='border: none;'>5</td></tr></table></td></tr><tr><td>source</td><td>CCD</td></tr></table></td></tr><tr><td>img_sum_x</td><td><table><tr><td>dtype</td><td>array</td></tr><tr><td>external</td><td>FILESTORE:</td></tr><tr><td>shape</td><td><table style='border: none;'><tr style='border: none;' ><td style='border: none;'>5</td></tr></table></td></tr><tr><td>source</td><td>CCD:xsum</td></tr></table></td></tr><tr><td>img_sum_y</td><td><table><tr><td>dtype</td><td>array</td></tr><tr><td>external</td><td>FILESTORE:</td></tr><tr><td>shape</td><td><table style='border: none;'><tr style='border: none;' ><td style='border: none;'>5</td></tr></table></td></tr><tr><td>source</td><td>CCD:ysum</td></tr></table></td></tr><tr><td>img_x_max</td><td><table><tr><td>dtype</td><td>number</td></tr><tr><td>external</td><td>None</td></tr><tr><td>shape</td><td><table style='border: none;'></table></td></tr><tr><td>source</td><td>CCD:xmax</td></tr></table></td></tr><tr><td>img_y_max</td><td><table><tr><td>dtype</td><td>number</td></tr><tr><td>external</td><td>None</td></tr><tr><td>shape</td><td><table style='border: none;'></table></td></tr><tr><td>source</td><td>CCD:ymax</td></tr></table></td></tr><tr><td>linear_motor</td><td><table><tr><td>dtype</td><td>number</td></tr><tr><td>external</td><td>None</td></tr><tr><td>shape</td><td><table style='border: none;'></table></td></tr><tr><td>source</td><td>PV:ES:sam_x</td></tr></table></td></tr><tr><td>total_img_sum</td><td><table><tr><td>dtype</td><td>number</td></tr><tr><td>external</td><td>None</td></tr><tr><td>shape</td><td><table style='border: none;'></table></td></tr><tr><td>source</td><td>CCD:sum</td></tr></table></td></tr></table></td></tr><tr><td>run_start</td><td>6eca8b25-37a3-4f77-9845-e7a3813c9d2f</td></tr><tr><td>time</td><td>0.0</td></tr><tr><td>time_as_datetime</td><td>1969-12-31 19:00:00  (45 years ago)</td></tr><tr><td>uid</td><td>b1343871-66b0-41d0-8f33-408be7d8c043</td></tr></table></td></tr><tr style='border: none;' ><td style='border: none;'><table><tr><td>data_keys</td><td><table><tr><td>Tsam</td><td><table><tr><td>dtype</td><td>number</td></tr><tr><td>external</td><td>None</td></tr><tr><td>shape</td><td><table style='border: none;'></table></td></tr><tr><td>source</td><td>PV:ES:Tsam</td></tr></table></td></tr></table></td></tr><tr><td>run_start</td><td>6eca8b25-37a3-4f77-9845-e7a3813c9d2f</td></tr><tr><td>time</td><td>0.0</td></tr><tr><td>time_as_datetime</td><td>1969-12-31 19:00:00  (45 years ago)</td></tr><tr><td>uid</td><td>e6da3f76-566d-4ec0-8b79-ea61c1dd9c8c</td></tr></table></td></tr></table></td></tr><tr><td>group</td><td></td></tr><tr><td>moon</td><td>full</td></tr><tr><td>owner</td><td></td></tr><tr><td>plotx</td><td>linear_motor</td></tr><tr><td>ploty</td><td><table style='border: none;'><tr style='border: none;' ><td style='border: none;'>total_img_sum</td></tr></table></td></tr><tr><td>project</td><td></td></tr><tr><td>run_start_uid</td><td>6eca8b25-37a3-4f77-9845-e7a3813c9d2f</td></tr><tr><td>sample</td><td><table></table></td></tr><tr><td>scan_id</td><td>3</td></tr><tr><td>start_datetime</td><td>2015-08-04 16:54:23.151924  (a month ago)</td></tr><tr><td>start_time</td><td>1438721663.15</td></tr></table>\n",
       "      </div>\n",
       "    </div>\n",
       "  </div>\n",
       "        \n",
       "  <div class=\"panel panel-default\">\n",
       "    <div class=\"panel-heading\" role=\"tab\" id=\"heading-1609372f-5a65-4cc9-8c8d-30bd883dbaaa\" style=\"text-overflow: ellipsis; white-space: nowrap; overflow: hidden;\">\n",
       "      <h4 class=\"panel-title\">\n",
       "        <a data-toggle=\"collapse\" data-parent=\"#accordion-78dba635-dbbd-4d11-88b0-c4a6fac322ba\" href=\"#collapse-1609372f-5a65-4cc9-8c8d-30bd883dbaaa\" aria-expanded=\"false\" aria-controls=\"collapse-1609372f-5a65-4cc9-8c8d-30bd883dbaaa\">\n",
       "          Header: Scan 2 &nbsp; <span style=\"color: #AAAAAA;\">a month ago</span>\n",
       "        </a>\n",
       "      </h4>\n",
       "    </div>\n",
       "    <div id=\"collapse-1609372f-5a65-4cc9-8c8d-30bd883dbaaa\" class=\"panel-collapse collapse\" role=\"tabpanel\" aria-labelledby=\"heading-1609372f-5a65-4cc9-8c8d-30bd883dbaaa\">\n",
       "      <div class=\"panel-body\">\n",
       "        <table><tr><td>beamline_config</td><td><table><tr><td>config_params</td><td><table><tr><td>my_beamline</td><td>my_value</td></tr></table></td></tr><tr><td>time</td><td>1438721585.71</td></tr><tr><td>time_as_datetime</td><td>2015-08-04 16:53:05.706514  (a month ago)</td></tr><tr><td>uid</td><td>2b31edea-a684-4bf6-a9f8-096708bbed0a</td></tr></table></td></tr><tr><td>beamline_id</td><td>csx</td></tr><tr><td>event_descriptors</td><td><table style='border: none;'><tr style='border: none;' ><td style='border: none;'><table><tr><td>data_keys</td><td><table><tr><td>img</td><td><table><tr><td>dtype</td><td>array</td></tr><tr><td>external</td><td>FILESTORE:</td></tr><tr><td>shape</td><td><table style='border: none;'><tr style='border: none;' ><td style='border: none;'>5</td></tr><tr style='border: none;' ><td style='border: none;'>5</td></tr></table></td></tr><tr><td>source</td><td>CCD</td></tr></table></td></tr><tr><td>img_sum_x</td><td><table><tr><td>dtype</td><td>array</td></tr><tr><td>external</td><td>FILESTORE:</td></tr><tr><td>shape</td><td><table style='border: none;'><tr style='border: none;' ><td style='border: none;'>5</td></tr></table></td></tr><tr><td>source</td><td>CCD:xsum</td></tr></table></td></tr><tr><td>img_sum_y</td><td><table><tr><td>dtype</td><td>array</td></tr><tr><td>external</td><td>FILESTORE:</td></tr><tr><td>shape</td><td><table style='border: none;'><tr style='border: none;' ><td style='border: none;'>5</td></tr></table></td></tr><tr><td>source</td><td>CCD:ysum</td></tr></table></td></tr><tr><td>img_x_max</td><td><table><tr><td>dtype</td><td>number</td></tr><tr><td>external</td><td>None</td></tr><tr><td>shape</td><td><table style='border: none;'></table></td></tr><tr><td>source</td><td>CCD:xmax</td></tr></table></td></tr><tr><td>img_y_max</td><td><table><tr><td>dtype</td><td>number</td></tr><tr><td>external</td><td>None</td></tr><tr><td>shape</td><td><table style='border: none;'></table></td></tr><tr><td>source</td><td>CCD:ymax</td></tr></table></td></tr><tr><td>linear_motor</td><td><table><tr><td>dtype</td><td>number</td></tr><tr><td>external</td><td>None</td></tr><tr><td>shape</td><td><table style='border: none;'></table></td></tr><tr><td>source</td><td>PV:ES:sam_x</td></tr></table></td></tr><tr><td>total_img_sum</td><td><table><tr><td>dtype</td><td>number</td></tr><tr><td>external</td><td>None</td></tr><tr><td>shape</td><td><table style='border: none;'></table></td></tr><tr><td>source</td><td>CCD:sum</td></tr></table></td></tr></table></td></tr><tr><td>run_start</td><td>1609372f-5a65-4cc9-8c8d-30bd883dbaaa</td></tr><tr><td>time</td><td>0.0</td></tr><tr><td>time_as_datetime</td><td>1969-12-31 19:00:00  (45 years ago)</td></tr><tr><td>uid</td><td>aebff6d3-1f56-40b9-99a2-7f421b0e0f34</td></tr></table></td></tr><tr style='border: none;' ><td style='border: none;'><table><tr><td>data_keys</td><td><table><tr><td>Tsam</td><td><table><tr><td>dtype</td><td>number</td></tr><tr><td>external</td><td>None</td></tr><tr><td>shape</td><td><table style='border: none;'></table></td></tr><tr><td>source</td><td>PV:ES:Tsam</td></tr></table></td></tr></table></td></tr><tr><td>run_start</td><td>1609372f-5a65-4cc9-8c8d-30bd883dbaaa</td></tr><tr><td>time</td><td>0.0</td></tr><tr><td>time_as_datetime</td><td>1969-12-31 19:00:00  (45 years ago)</td></tr><tr><td>uid</td><td>04a9a286-98a6-4c1e-ad7c-76251522ca2e</td></tr></table></td></tr></table></td></tr><tr><td>group</td><td></td></tr><tr><td>moon</td><td>full</td></tr><tr><td>owner</td><td></td></tr><tr><td>plotx</td><td>linear_motor</td></tr><tr><td>ploty</td><td><table style='border: none;'><tr style='border: none;' ><td style='border: none;'>total_img_sum</td></tr></table></td></tr><tr><td>project</td><td></td></tr><tr><td>run_start_uid</td><td>1609372f-5a65-4cc9-8c8d-30bd883dbaaa</td></tr><tr><td>sample</td><td><table></table></td></tr><tr><td>scan_id</td><td>2</td></tr><tr><td>start_datetime</td><td>2015-08-04 16:53:05.713986  (a month ago)</td></tr><tr><td>start_time</td><td>1438721585.71</td></tr></table>\n",
       "      </div>\n",
       "    </div>\n",
       "  </div>\n",
       "        \n",
       "  <div class=\"panel panel-default\">\n",
       "    <div class=\"panel-heading\" role=\"tab\" id=\"heading-462fe67e-0c7c-4dae-9a31-f2965456286a\" style=\"text-overflow: ellipsis; white-space: nowrap; overflow: hidden;\">\n",
       "      <h4 class=\"panel-title\">\n",
       "        <a data-toggle=\"collapse\" data-parent=\"#accordion-78dba635-dbbd-4d11-88b0-c4a6fac322ba\" href=\"#collapse-462fe67e-0c7c-4dae-9a31-f2965456286a\" aria-expanded=\"false\" aria-controls=\"collapse-462fe67e-0c7c-4dae-9a31-f2965456286a\">\n",
       "          Header: Scan 1 &nbsp; <span style=\"color: #AAAAAA;\">a month ago</span>\n",
       "        </a>\n",
       "      </h4>\n",
       "    </div>\n",
       "    <div id=\"collapse-462fe67e-0c7c-4dae-9a31-f2965456286a\" class=\"panel-collapse collapse\" role=\"tabpanel\" aria-labelledby=\"heading-462fe67e-0c7c-4dae-9a31-f2965456286a\">\n",
       "      <div class=\"panel-body\">\n",
       "        <table><tr><td>beamline_config</td><td><table><tr><td>config_params</td><td><table><tr><td>my_beamline</td><td>my_value</td></tr></table></td></tr><tr><td>time</td><td>1438721449.58</td></tr><tr><td>time_as_datetime</td><td>2015-08-04 16:50:49.584152  (a month ago)</td></tr><tr><td>uid</td><td>ee0eaf2e-de04-4705-8b7a-283fe783b16e</td></tr></table></td></tr><tr><td>beamline_id</td><td>csx</td></tr><tr><td>event_descriptors</td><td><table style='border: none;'><tr style='border: none;' ><td style='border: none;'><table><tr><td>data_keys</td><td><table><tr><td>Tsam</td><td><table><tr><td>dtype</td><td>number</td></tr><tr><td>external</td><td>None</td></tr><tr><td>shape</td><td><table style='border: none;'></table></td></tr><tr><td>source</td><td>PV:ES:Tsam</td></tr></table></td></tr></table></td></tr><tr><td>run_start</td><td>462fe67e-0c7c-4dae-9a31-f2965456286a</td></tr><tr><td>time</td><td>0.0</td></tr><tr><td>time_as_datetime</td><td>1969-12-31 19:00:00  (45 years ago)</td></tr><tr><td>uid</td><td>23642a8d-6a7c-4de1-b6ca-45e77e32bba8</td></tr></table></td></tr><tr style='border: none;' ><td style='border: none;'><table><tr><td>data_keys</td><td><table><tr><td>img</td><td><table><tr><td>dtype</td><td>array</td></tr><tr><td>external</td><td>FILESTORE:</td></tr><tr><td>shape</td><td><table style='border: none;'><tr style='border: none;' ><td style='border: none;'>5</td></tr><tr style='border: none;' ><td style='border: none;'>5</td></tr></table></td></tr><tr><td>source</td><td>CCD</td></tr></table></td></tr><tr><td>img_sum_x</td><td><table><tr><td>dtype</td><td>array</td></tr><tr><td>external</td><td>FILESTORE:</td></tr><tr><td>shape</td><td><table style='border: none;'><tr style='border: none;' ><td style='border: none;'>5</td></tr></table></td></tr><tr><td>source</td><td>CCD:xsum</td></tr></table></td></tr><tr><td>img_sum_y</td><td><table><tr><td>dtype</td><td>array</td></tr><tr><td>external</td><td>FILESTORE:</td></tr><tr><td>shape</td><td><table style='border: none;'><tr style='border: none;' ><td style='border: none;'>5</td></tr></table></td></tr><tr><td>source</td><td>CCD:ysum</td></tr></table></td></tr><tr><td>img_x_max</td><td><table><tr><td>dtype</td><td>number</td></tr><tr><td>external</td><td>None</td></tr><tr><td>shape</td><td><table style='border: none;'></table></td></tr><tr><td>source</td><td>CCD:xmax</td></tr></table></td></tr><tr><td>img_y_max</td><td><table><tr><td>dtype</td><td>number</td></tr><tr><td>external</td><td>None</td></tr><tr><td>shape</td><td><table style='border: none;'></table></td></tr><tr><td>source</td><td>CCD:ymax</td></tr></table></td></tr><tr><td>linear_motor</td><td><table><tr><td>dtype</td><td>number</td></tr><tr><td>external</td><td>None</td></tr><tr><td>shape</td><td><table style='border: none;'></table></td></tr><tr><td>source</td><td>PV:ES:sam_x</td></tr></table></td></tr><tr><td>total_img_sum</td><td><table><tr><td>dtype</td><td>number</td></tr><tr><td>external</td><td>None</td></tr><tr><td>shape</td><td><table style='border: none;'></table></td></tr><tr><td>source</td><td>CCD:sum</td></tr></table></td></tr></table></td></tr><tr><td>run_start</td><td>462fe67e-0c7c-4dae-9a31-f2965456286a</td></tr><tr><td>time</td><td>0.0</td></tr><tr><td>time_as_datetime</td><td>1969-12-31 19:00:00  (45 years ago)</td></tr><tr><td>uid</td><td>b910ee3d-85e2-4820-891c-4e09a8b3c9d5</td></tr></table></td></tr></table></td></tr><tr><td>group</td><td></td></tr><tr><td>moon</td><td>full</td></tr><tr><td>owner</td><td></td></tr><tr><td>plotx</td><td>linear_motor</td></tr><tr><td>ploty</td><td><table style='border: none;'><tr style='border: none;' ><td style='border: none;'>total_img_sum</td></tr></table></td></tr><tr><td>project</td><td></td></tr><tr><td>run_start_uid</td><td>462fe67e-0c7c-4dae-9a31-f2965456286a</td></tr><tr><td>sample</td><td><table></table></td></tr><tr><td>scan_id</td><td>1</td></tr><tr><td>start_datetime</td><td>2015-08-04 16:50:49.590466  (a month ago)</td></tr><tr><td>start_time</td><td>1438721449.59</td></tr></table>\n",
       "      </div>\n",
       "    </div>\n",
       "  </div>\n",
       "        \n",
       "  <div class=\"panel panel-default\">\n",
       "    <div class=\"panel-heading\" role=\"tab\" id=\"heading-fbb1ee94-bd47-4ea5-9c90-3d4298fec3c2\" style=\"text-overflow: ellipsis; white-space: nowrap; overflow: hidden;\">\n",
       "      <h4 class=\"panel-title\">\n",
       "        <a data-toggle=\"collapse\" data-parent=\"#accordion-78dba635-dbbd-4d11-88b0-c4a6fac322ba\" href=\"#collapse-fbb1ee94-bd47-4ea5-9c90-3d4298fec3c2\" aria-expanded=\"false\" aria-controls=\"collapse-fbb1ee94-bd47-4ea5-9c90-3d4298fec3c2\">\n",
       "          Header: Scan 2032013 &nbsp; <span style=\"color: #AAAAAA;\">45 years ago</span>\n",
       "        </a>\n",
       "      </h4>\n",
       "    </div>\n",
       "    <div id=\"collapse-fbb1ee94-bd47-4ea5-9c90-3d4298fec3c2\" class=\"panel-collapse collapse\" role=\"tabpanel\" aria-labelledby=\"heading-fbb1ee94-bd47-4ea5-9c90-3d4298fec3c2\">\n",
       "      <div class=\"panel-body\">\n",
       "        <table><tr><td>beamline_config</td><td><table><tr><td>config_params</td><td><table></table></td></tr><tr><td>time</td><td>0.0</td></tr><tr><td>time_as_datetime</td><td>1969-12-31 19:00:00  (45 years ago)</td></tr><tr><td>uid</td><td>795f29b7-31b9-4276-97a7-6d01cbdb7a44</td></tr></table></td></tr><tr><td>beamline_id</td><td>testbed</td></tr><tr><td>event_descriptors</td><td><table style='border: none;'><tr style='border: none;' ><td style='border: none;'><table><tr><td>data_keys</td><td><table><tr><td>Troom</td><td><table><tr><td>dtype</td><td>number</td></tr><tr><td>external</td><td>None</td></tr><tr><td>shape</td><td><table style='border: none;'></table></td></tr><tr><td>source</td><td>PV:ES:Troom</td></tr></table></td></tr><tr><td>Tsam</td><td><table><tr><td>dtype</td><td>number</td></tr><tr><td>external</td><td>None</td></tr><tr><td>shape</td><td><table style='border: none;'></table></td></tr><tr><td>source</td><td>PV:ES:Tsam</td></tr></table></td></tr></table></td></tr><tr><td>run_start</td><td>fbb1ee94-bd47-4ea5-9c90-3d4298fec3c2</td></tr><tr><td>time</td><td>1438723153.88</td></tr><tr><td>time_as_datetime</td><td>2015-08-04 17:19:13.884617  (a month ago)</td></tr><tr><td>uid</td><td>de1ac30a-d00c-4585-a01f-910a4d3fe718</td></tr></table></td></tr><tr style='border: none;' ><td style='border: none;'><table><tr><td>data_keys</td><td><table><tr><td>point_det</td><td><table><tr><td>dtype</td><td>number</td></tr><tr><td>external</td><td>None</td></tr><tr><td>shape</td><td><table style='border: none;'></table></td></tr><tr><td>source</td><td>PV:ES:PointDet</td></tr></table></td></tr></table></td></tr><tr><td>run_start</td><td>fbb1ee94-bd47-4ea5-9c90-3d4298fec3c2</td></tr><tr><td>time</td><td>1438723153.88</td></tr><tr><td>time_as_datetime</td><td>2015-08-04 17:19:13.882209  (a month ago)</td></tr><tr><td>uid</td><td>ecdeeeda-168f-4a90-bc79-74359bfe7bef</td></tr></table></td></tr></table></td></tr><tr><td>exit_reason</td><td>None</td></tr><tr><td>exit_status</td><td>success</td></tr><tr><td>group</td><td>awesome-devs</td></tr><tr><td>owner</td><td>tester</td></tr><tr><td>project</td><td>Nikea</td></tr><tr><td>run_start_uid</td><td>fbb1ee94-bd47-4ea5-9c90-3d4298fec3c2</td></tr><tr><td>run_stop_uid</td><td>132529ed-0b73-4d28-8200-0b49dc8fdd7a</td></tr><tr><td>sample</td><td><table></table></td></tr><tr><td>scan_id</td><td>2032013</td></tr><tr><td>start_datetime</td><td>1969-12-31 19:00:00  (45 years ago)</td></tr><tr><td>start_time</td><td>0.0</td></tr><tr><td>stop_datetime</td><td>2015-08-04 17:19:13.973951  (a month ago)</td></tr><tr><td>stop_time</td><td>1438723153.97</td></tr></table>\n",
       "      </div>\n",
       "    </div>\n",
       "  </div>\n",
       "        \n",
       "</div>"
      ],
      "text/plain": [
       "[<Header scan_id=2 run_start_uid='22eafbf8-4ade-48b0-813c-0f2faae9733e'>,\n",
       " <Header scan_id=1 run_start_uid='e054775f-4602-4f36-93d4-eebb4c4b1b00'>,\n",
       " <Header scan_id=3022014 run_start_uid='ed3aecee-ff46-486f-a8f2-77ea48fb9524'>,\n",
       " <Header scan_id=3022013 run_start_uid='a91a858d-5349-492b-a06e-fc16ec7886d6'>,\n",
       " <Header scan_id=5 run_start_uid='db6ef54d-2bc8-4b41-9c2c-437e0d1de291'>,\n",
       " <Header scan_id=4 run_start_uid='0fe9b897-a291-4af6-8a82-7f34040dde2f'>,\n",
       " <Header scan_id=3 run_start_uid='6eca8b25-37a3-4f77-9845-e7a3813c9d2f'>,\n",
       " <Header scan_id=2 run_start_uid='1609372f-5a65-4cc9-8c8d-30bd883dbaaa'>,\n",
       " <Header scan_id=1 run_start_uid='462fe67e-0c7c-4dae-9a31-f2965456286a'>,\n",
       " <Header scan_id=2032013 run_start_uid='fbb1ee94-bd47-4ea5-9c90-3d4298fec3c2'>]"
      ]
     },
     "execution_count": 79,
     "metadata": {},
     "output_type": "execute_result"
    }
   ],
   "source": [
    "dataportal.DataBroker.find_headers()"
   ]
  },
  {
   "cell_type": "code",
   "execution_count": 82,
   "metadata": {
    "collapsed": false
   },
   "outputs": [
    {
     "data": {
      "text/html": [
       "<table><tr><td>beamline_config</td><td><table><tr><td>config_params</td><td><table></table></td></tr><tr><td>time</td><td>0.0</td></tr><tr><td>time_as_datetime</td><td>1969-12-31 19:00:00  (45 years ago)</td></tr><tr><td>uid</td><td>795f29b7-31b9-4276-97a7-6d01cbdb7a44</td></tr></table></td></tr><tr><td>beamline_id</td><td>testbed</td></tr><tr><td>event_descriptors</td><td><table style='border: none;'><tr style='border: none;' ><td style='border: none;'><table><tr><td>data_keys</td><td><table><tr><td>Troom</td><td><table><tr><td>dtype</td><td>number</td></tr><tr><td>external</td><td>None</td></tr><tr><td>shape</td><td><table style='border: none;'></table></td></tr><tr><td>source</td><td>PV:ES:Troom</td></tr></table></td></tr><tr><td>Tsam</td><td><table><tr><td>dtype</td><td>number</td></tr><tr><td>external</td><td>None</td></tr><tr><td>shape</td><td><table style='border: none;'></table></td></tr><tr><td>source</td><td>PV:ES:Tsam</td></tr></table></td></tr></table></td></tr><tr><td>run_start</td><td>fbb1ee94-bd47-4ea5-9c90-3d4298fec3c2</td></tr><tr><td>time</td><td>1438723153.88</td></tr><tr><td>time_as_datetime</td><td>2015-08-04 17:19:13.884617  (a month ago)</td></tr><tr><td>uid</td><td>de1ac30a-d00c-4585-a01f-910a4d3fe718</td></tr></table></td></tr><tr style='border: none;' ><td style='border: none;'><table><tr><td>data_keys</td><td><table><tr><td>point_det</td><td><table><tr><td>dtype</td><td>number</td></tr><tr><td>external</td><td>None</td></tr><tr><td>shape</td><td><table style='border: none;'></table></td></tr><tr><td>source</td><td>PV:ES:PointDet</td></tr></table></td></tr></table></td></tr><tr><td>run_start</td><td>fbb1ee94-bd47-4ea5-9c90-3d4298fec3c2</td></tr><tr><td>time</td><td>1438723153.88</td></tr><tr><td>time_as_datetime</td><td>2015-08-04 17:19:13.882209  (a month ago)</td></tr><tr><td>uid</td><td>ecdeeeda-168f-4a90-bc79-74359bfe7bef</td></tr></table></td></tr></table></td></tr><tr><td>exit_reason</td><td>None</td></tr><tr><td>exit_status</td><td>success</td></tr><tr><td>group</td><td>awesome-devs</td></tr><tr><td>owner</td><td>tester</td></tr><tr><td>project</td><td>Nikea</td></tr><tr><td>run_start_uid</td><td>fbb1ee94-bd47-4ea5-9c90-3d4298fec3c2</td></tr><tr><td>run_stop_uid</td><td>132529ed-0b73-4d28-8200-0b49dc8fdd7a</td></tr><tr><td>sample</td><td><table></table></td></tr><tr><td>scan_id</td><td>2032013</td></tr><tr><td>start_datetime</td><td>1969-12-31 19:00:00  (45 years ago)</td></tr><tr><td>start_time</td><td>0.0</td></tr><tr><td>stop_datetime</td><td>2015-08-04 17:19:13.973951  (a month ago)</td></tr><tr><td>stop_time</td><td>1438723153.97</td></tr></table>"
      ],
      "text/plain": [
       "<Header scan_id=2032013 run_start_uid='fbb1ee94-bd47-4ea5-9c90-3d4298fec3c2'>"
      ]
     },
     "execution_count": 82,
     "metadata": {},
     "output_type": "execute_result"
    }
   ],
   "source": [
    "dataportal.DataBroker[2032013]"
   ]
  },
  {
   "cell_type": "code",
   "execution_count": 85,
   "metadata": {
    "collapsed": false
   },
   "outputs": [
    {
     "name": "stdout",
     "output_type": "stream",
     "text": [
      "<generator object fetch_events at 0x7f1d76ae20a0>\n"
     ]
    }
   ],
   "source": [
    "tmp\n",
    "dataportal.DataBroker.fetch_events(3022014)"
   ]
  },
  {
   "cell_type": "code",
   "execution_count": 56,
   "metadata": {
    "collapsed": false
   },
   "outputs": [
    {
     "name": "stdout",
     "output_type": "stream",
     "text": [
      "Help on method fetch_events in module dataportal.broker.simple_broker:\n",
      "\n",
      "fetch_events(cls, headers, fill=True) method of __builtin__.type instance\n",
      "    Get Events from given run(s).\n",
      "    \n",
      "    Parameters\n",
      "    ----------\n",
      "    headers : RunHeader or iterable of RunHeader\n",
      "        The headers to fetch the events for\n",
      "    \n",
      "    fill : bool, optional\n",
      "        If non-scalar data should be filled in, Defaults to True\n",
      "    \n",
      "    Yields\n",
      "    ------\n",
      "    event : Event\n",
      "        The event, optionally with non-scalar data filled in\n",
      "\n"
     ]
    }
   ],
   "source": [
    "help(dataportal.DataBroker.fetch_events)"
   ]
  },
  {
   "cell_type": "code",
   "execution_count": 67,
   "metadata": {
    "collapsed": false
   },
   "outputs": [],
   "source": [
    "\n",
    "tmp=dataportal.DataBroker.fetch_events('2032013')"
   ]
  },
  {
   "cell_type": "code",
   "execution_count": 68,
   "metadata": {
    "collapsed": false
   },
   "outputs": [
    {
     "data": {
      "text/plain": [
       "<generator object fetch_events at 0x7f1d74fb2690>"
      ]
     },
     "execution_count": 68,
     "metadata": {},
     "output_type": "execute_result"
    }
   ],
   "source": [
    "tmp"
   ]
  },
  {
   "cell_type": "code",
   "execution_count": 54,
   "metadata": {
    "collapsed": false
   },
   "outputs": [
    {
     "ename": "ValueError",
     "evalue": "Unable to create group (Name already exists)",
     "output_type": "error",
     "traceback": [
      "\u001b[1;31m---------------------------------------------------------------------------\u001b[0m",
      "\u001b[1;31mValueError\u001b[0m                                Traceback (most recent call last)",
      "\u001b[1;32m<ipython-input-54-d2a0b5d8d6e0>\u001b[0m in \u001b[0;36m<module>\u001b[1;34m()\u001b[0m\n\u001b[1;32m----> 1\u001b[1;33m \u001b[0msuitcase\u001b[0m\u001b[1;33m.\u001b[0m\u001b[0mexport\u001b[0m\u001b[1;33m(\u001b[0m\u001b[0mdataportal\u001b[0m\u001b[1;33m.\u001b[0m\u001b[0mDataBroker\u001b[0m\u001b[1;33m.\u001b[0m\u001b[0mfind_headers\u001b[0m\u001b[1;33m(\u001b[0m\u001b[1;33m)\u001b[0m\u001b[1;33m,\u001b[0m\u001b[1;34m'tmp_h5.h5'\u001b[0m\u001b[1;33m,\u001b[0m \u001b[1;33m)\u001b[0m\u001b[1;33m\u001b[0m\u001b[0m\n\u001b[0m\u001b[0;32m      2\u001b[0m \u001b[1;31m#dataportal.DataBroker.find_headers()\u001b[0m\u001b[1;33m\u001b[0m\u001b[1;33m\u001b[0m\u001b[0m\n",
      "\u001b[1;32m/home/giltis/dev/my_src/suitcase/suitcase.py\u001b[0m in \u001b[0;36mexport\u001b[1;34m(headers, filename)\u001b[0m\n\u001b[0;32m    218\u001b[0m     \u001b[0mheaders\u001b[0m \u001b[1;33m:\u001b[0m \u001b[0ma\u001b[0m \u001b[0mHeader\u001b[0m \u001b[1;32mor\u001b[0m \u001b[0ma\u001b[0m \u001b[0mlist\u001b[0m \u001b[0mof\u001b[0m \u001b[0mHeaders\u001b[0m\u001b[1;33m\u001b[0m\u001b[0m\n\u001b[0;32m    219\u001b[0m         \u001b[0mobjects\u001b[0m \u001b[0mreturned\u001b[0m \u001b[0mby\u001b[0m \u001b[0mthe\u001b[0m \u001b[0mData\u001b[0m \u001b[0mBroker\u001b[0m\u001b[1;33m\u001b[0m\u001b[0m\n\u001b[1;32m--> 220\u001b[1;33m     \u001b[0mfilename\u001b[0m \u001b[1;33m:\u001b[0m \u001b[0mstring\u001b[0m\u001b[1;33m\u001b[0m\u001b[0m\n\u001b[0m\u001b[0;32m    221\u001b[0m         \u001b[0mpath\u001b[0m \u001b[0mto\u001b[0m \u001b[0ma\u001b[0m \u001b[0mnew\u001b[0m \u001b[1;32mor\u001b[0m \u001b[0mexisting\u001b[0m \u001b[0mHDF5\u001b[0m \u001b[0mfile\u001b[0m\u001b[1;33m\u001b[0m\u001b[0m\n\u001b[0;32m    222\u001b[0m     \"\"\"\n",
      "\u001b[1;32m/home/giltis/anaconda3/envs/suitcase2.7/lib/python2.7/site-packages/h5py/_hl/group.pyc\u001b[0m in \u001b[0;36mcreate_group\u001b[1;34m(self, name)\u001b[0m\n\u001b[0;32m     45\u001b[0m         \u001b[1;32mwith\u001b[0m \u001b[0mphil\u001b[0m\u001b[1;33m:\u001b[0m\u001b[1;33m\u001b[0m\u001b[0m\n\u001b[0;32m     46\u001b[0m             \u001b[0mname\u001b[0m\u001b[1;33m,\u001b[0m \u001b[0mlcpl\u001b[0m \u001b[1;33m=\u001b[0m \u001b[0mself\u001b[0m\u001b[1;33m.\u001b[0m\u001b[0m_e\u001b[0m\u001b[1;33m(\u001b[0m\u001b[0mname\u001b[0m\u001b[1;33m,\u001b[0m \u001b[0mlcpl\u001b[0m\u001b[1;33m=\u001b[0m\u001b[0mTrue\u001b[0m\u001b[1;33m)\u001b[0m\u001b[1;33m\u001b[0m\u001b[0m\n\u001b[1;32m---> 47\u001b[1;33m             \u001b[0mgid\u001b[0m \u001b[1;33m=\u001b[0m \u001b[0mh5g\u001b[0m\u001b[1;33m.\u001b[0m\u001b[0mcreate\u001b[0m\u001b[1;33m(\u001b[0m\u001b[0mself\u001b[0m\u001b[1;33m.\u001b[0m\u001b[0mid\u001b[0m\u001b[1;33m,\u001b[0m \u001b[0mname\u001b[0m\u001b[1;33m,\u001b[0m \u001b[0mlcpl\u001b[0m\u001b[1;33m=\u001b[0m\u001b[0mlcpl\u001b[0m\u001b[1;33m)\u001b[0m\u001b[1;33m\u001b[0m\u001b[0m\n\u001b[0m\u001b[0;32m     48\u001b[0m             \u001b[1;32mreturn\u001b[0m \u001b[0mGroup\u001b[0m\u001b[1;33m(\u001b[0m\u001b[0mgid\u001b[0m\u001b[1;33m)\u001b[0m\u001b[1;33m\u001b[0m\u001b[0m\n\u001b[0;32m     49\u001b[0m \u001b[1;33m\u001b[0m\u001b[0m\n",
      "\u001b[1;32mh5py/_objects.pyx\u001b[0m in \u001b[0;36mh5py._objects.with_phil.wrapper (-------src-dir-------/h5py/_objects.c:2458)\u001b[1;34m()\u001b[0m\n",
      "\u001b[1;32mh5py/_objects.pyx\u001b[0m in \u001b[0;36mh5py._objects.with_phil.wrapper (-------src-dir-------/h5py/_objects.c:2415)\u001b[1;34m()\u001b[0m\n",
      "\u001b[1;32mh5py/h5g.pyx\u001b[0m in \u001b[0;36mh5py.h5g.create (-------src-dir-------/h5py/h5g.c:2618)\u001b[1;34m()\u001b[0m\n",
      "\u001b[1;31mValueError\u001b[0m: Unable to create group (Name already exists)"
     ]
    }
   ],
   "source": [
    "suitcase.export(dataportal.DataBroker.fetch_events,'tmp_h5.h5', )\n",
    "#dataportal.DataBroker.find_headers()"
   ]
  },
  {
   "cell_type": "code",
   "execution_count": 48,
   "metadata": {
    "collapsed": false
   },
   "outputs": [
    {
     "data": {
      "text/html": [
       "<table><tr><td>beamline_config</td><td><table><tr><td>config_params</td><td><table><tr><td>my_beamline</td><td>my_value</td></tr></table></td></tr><tr><td>time</td><td>1438723172.77</td></tr><tr><td>time_as_datetime</td><td>2015-08-04 17:19:32.774839  (a month ago)</td></tr><tr><td>uid</td><td>449f3b77-d3a1-458d-b617-a295b2002fb4</td></tr></table></td></tr><tr><td>beamline_id</td><td>csx</td></tr><tr><td>event_descriptors</td><td><table style='border: none;'><tr style='border: none;' ><td style='border: none;'><table><tr><td>data_keys</td><td><table><tr><td>img</td><td><table><tr><td>dtype</td><td>array</td></tr><tr><td>external</td><td>FILESTORE:</td></tr><tr><td>shape</td><td><table style='border: none;'><tr style='border: none;' ><td style='border: none;'>5</td></tr><tr style='border: none;' ><td style='border: none;'>5</td></tr></table></td></tr><tr><td>source</td><td>CCD</td></tr></table></td></tr><tr><td>img_sum_x</td><td><table><tr><td>dtype</td><td>array</td></tr><tr><td>external</td><td>FILESTORE:</td></tr><tr><td>shape</td><td><table style='border: none;'><tr style='border: none;' ><td style='border: none;'>5</td></tr></table></td></tr><tr><td>source</td><td>CCD:xsum</td></tr></table></td></tr><tr><td>img_sum_y</td><td><table><tr><td>dtype</td><td>array</td></tr><tr><td>external</td><td>FILESTORE:</td></tr><tr><td>shape</td><td><table style='border: none;'><tr style='border: none;' ><td style='border: none;'>5</td></tr></table></td></tr><tr><td>source</td><td>CCD:ysum</td></tr></table></td></tr><tr><td>img_x_max</td><td><table><tr><td>dtype</td><td>number</td></tr><tr><td>external</td><td>None</td></tr><tr><td>shape</td><td><table style='border: none;'></table></td></tr><tr><td>source</td><td>CCD:xmax</td></tr></table></td></tr><tr><td>img_y_max</td><td><table><tr><td>dtype</td><td>number</td></tr><tr><td>external</td><td>None</td></tr><tr><td>shape</td><td><table style='border: none;'></table></td></tr><tr><td>source</td><td>CCD:ymax</td></tr></table></td></tr><tr><td>linear_motor</td><td><table><tr><td>dtype</td><td>number</td></tr><tr><td>external</td><td>None</td></tr><tr><td>shape</td><td><table style='border: none;'></table></td></tr><tr><td>source</td><td>PV:ES:sam_x</td></tr></table></td></tr><tr><td>total_img_sum</td><td><table><tr><td>dtype</td><td>number</td></tr><tr><td>external</td><td>None</td></tr><tr><td>shape</td><td><table style='border: none;'></table></td></tr><tr><td>source</td><td>CCD:sum</td></tr></table></td></tr></table></td></tr><tr><td>run_start</td><td>22eafbf8-4ade-48b0-813c-0f2faae9733e</td></tr><tr><td>time</td><td>0.0</td></tr><tr><td>time_as_datetime</td><td>1969-12-31 19:00:00  (45 years ago)</td></tr><tr><td>uid</td><td>de93900b-a4a3-4c27-934d-bd30cdcfb972</td></tr></table></td></tr><tr style='border: none;' ><td style='border: none;'><table><tr><td>data_keys</td><td><table><tr><td>Tsam</td><td><table><tr><td>dtype</td><td>number</td></tr><tr><td>external</td><td>None</td></tr><tr><td>shape</td><td><table style='border: none;'></table></td></tr><tr><td>source</td><td>PV:ES:Tsam</td></tr></table></td></tr></table></td></tr><tr><td>run_start</td><td>22eafbf8-4ade-48b0-813c-0f2faae9733e</td></tr><tr><td>time</td><td>0.0</td></tr><tr><td>time_as_datetime</td><td>1969-12-31 19:00:00  (45 years ago)</td></tr><tr><td>uid</td><td>ac11ac30-3e22-44df-932a-dae8466c3656</td></tr></table></td></tr></table></td></tr><tr><td>exit_reason</td><td>run completed</td></tr><tr><td>exit_status</td><td>success</td></tr><tr><td>group</td><td></td></tr><tr><td>moon</td><td>full</td></tr><tr><td>owner</td><td></td></tr><tr><td>plotx</td><td>linear_motor</td></tr><tr><td>ploty</td><td><table style='border: none;'><tr style='border: none;' ><td style='border: none;'>total_img_sum</td></tr></table></td></tr><tr><td>project</td><td></td></tr><tr><td>run_start_uid</td><td>22eafbf8-4ade-48b0-813c-0f2faae9733e</td></tr><tr><td>run_stop_uid</td><td>6638116b-c776-49ba-8b52-7aba1c6c8b31</td></tr><tr><td>sample</td><td><table></table></td></tr><tr><td>scan_id</td><td>2</td></tr><tr><td>start_datetime</td><td>2015-08-04 17:19:32.781343  (a month ago)</td></tr><tr><td>start_time</td><td>1438723172.78</td></tr><tr><td>stop_datetime</td><td>2015-08-04 17:19:34.057481  (a month ago)</td></tr><tr><td>stop_time</td><td>1438723174.06</td></tr></table>"
      ],
      "text/plain": [
       "<Header scan_id=2 run_start_uid='22eafbf8-4ade-48b0-813c-0f2faae9733e'>"
      ]
     },
     "execution_count": 48,
     "metadata": {},
     "output_type": "execute_result"
    }
   ],
   "source": [
    "dataportal.DataBroker[-1]"
   ]
  },
  {
   "cell_type": "code",
   "execution_count": 41,
   "metadata": {
    "collapsed": false,
    "scrolled": true
   },
   "outputs": [],
   "source": [
    "output = dataportal.DataBroker[-10]"
   ]
  },
  {
   "cell_type": "code",
   "execution_count": 42,
   "metadata": {
    "collapsed": false
   },
   "outputs": [
    {
     "data": {
      "text/plain": [
       "['exit_reason',\n",
       " 'sample',\n",
       " 'scan_id',\n",
       " 'group',\n",
       " 'exit_status',\n",
       " 'run_stop_uid',\n",
       " 'start_time',\n",
       " 'beamline_id',\n",
       " 'beamline_config',\n",
       " 'project',\n",
       " 'owner',\n",
       " 'event_descriptors',\n",
       " 'stop_datetime',\n",
       " 'stop_time',\n",
       " 'start_datetime',\n",
       " 'run_start_uid']"
      ]
     },
     "execution_count": 42,
     "metadata": {},
     "output_type": "execute_result"
    }
   ],
   "source": [
    "output.keys()"
   ]
  },
  {
   "cell_type": "code",
   "execution_count": 43,
   "metadata": {
    "collapsed": false
   },
   "outputs": [
    {
     "data": {
      "text/plain": [
       "[<EventDescriptor Document. de1ac30a-d00c-4585-a01f-910a4d3fe718>,\n",
       " <EventDescriptor Document. ecdeeeda-168f-4a90-bc79-74359bfe7bef>]"
      ]
     },
     "execution_count": 43,
     "metadata": {},
     "output_type": "execute_result"
    }
   ],
   "source": [
    "output.pop('event_descriptors')\n"
   ]
  },
  {
   "cell_type": "code",
   "execution_count": 46,
   "metadata": {
    "collapsed": false
   },
   "outputs": [
    {
     "ename": "AttributeError",
     "evalue": "'Header' object has no attribute 'event_descriptors'",
     "output_type": "error",
     "traceback": [
      "\u001b[1;31m---------------------------------------------------------------------------\u001b[0m",
      "\u001b[1;31mAttributeError\u001b[0m                            Traceback (most recent call last)",
      "\u001b[1;32m<ipython-input-46-dd29f5aea6c3>\u001b[0m in \u001b[0;36m<module>\u001b[1;34m()\u001b[0m\n\u001b[1;32m----> 1\u001b[1;33m \u001b[0moutput\u001b[0m\u001b[1;33m.\u001b[0m\u001b[0msummary\u001b[0m\u001b[1;33m\u001b[0m\u001b[0m\n\u001b[0m",
      "\u001b[1;32m/home/giltis/dev/my_src/dataportal/dataportal/broker/simple_broker.pyc\u001b[0m in \u001b[0;36msummary\u001b[1;34m(self)\u001b[0m\n\u001b[0;32m    416\u001b[0m         \u001b[0ms\u001b[0m\u001b[1;33m.\u001b[0m\u001b[0mwrite\u001b[0m\u001b[1;33m(\u001b[0m\u001b[1;34m\"Exit Status: {0}\"\u001b[0m\u001b[1;33m.\u001b[0m\u001b[0mformat\u001b[0m\u001b[1;33m(\u001b[0m\u001b[0mself\u001b[0m\u001b[1;33m.\u001b[0m\u001b[0mget\u001b[0m\u001b[1;33m(\u001b[0m\u001b[1;34m'exit_status'\u001b[0m\u001b[1;33m,\u001b[0m \u001b[1;34m'Unknown'\u001b[0m\u001b[1;33m)\u001b[0m\u001b[1;33m)\u001b[0m\u001b[1;33m)\u001b[0m\u001b[1;33m\u001b[0m\u001b[0m\n\u001b[0;32m    417\u001b[0m         \u001b[0ms\u001b[0m\u001b[1;33m.\u001b[0m\u001b[0mwrite\u001b[0m\u001b[1;33m(\u001b[0m\u001b[1;34m\"Exit Reason: {0}\"\u001b[0m\u001b[1;33m.\u001b[0m\u001b[0mformat\u001b[0m\u001b[1;33m(\u001b[0m\u001b[0mself\u001b[0m\u001b[1;33m.\u001b[0m\u001b[0mget\u001b[0m\u001b[1;33m(\u001b[0m\u001b[1;34m'exit_reason'\u001b[0m\u001b[1;33m,\u001b[0m \u001b[1;34m'Unknown'\u001b[0m\u001b[1;33m)\u001b[0m\u001b[1;33m)\u001b[0m\u001b[1;33m)\u001b[0m\u001b[1;33m\u001b[0m\u001b[0m\n\u001b[1;32m--> 418\u001b[1;33m         \u001b[1;32mfor\u001b[0m \u001b[0mdescriptor\u001b[0m \u001b[1;32min\u001b[0m \u001b[0mself\u001b[0m\u001b[1;33m.\u001b[0m\u001b[0mevent_descriptors\u001b[0m\u001b[1;33m:\u001b[0m\u001b[1;33m\u001b[0m\u001b[0m\n\u001b[0m\u001b[0;32m    419\u001b[0m             \u001b[0ms\u001b[0m\u001b[1;33m.\u001b[0m\u001b[0mwrite\u001b[0m\u001b[1;33m(\u001b[0m\u001b[1;34m\"..Event Descriptor \"\u001b[0m\u001b[1;33m,\u001b[0m \u001b[0mnewline\u001b[0m\u001b[1;33m=\u001b[0m\u001b[0mFalse\u001b[0m\u001b[1;33m)\u001b[0m\u001b[1;33m\u001b[0m\u001b[0m\n\u001b[0;32m    420\u001b[0m             \u001b[0ms\u001b[0m\u001b[1;33m.\u001b[0m\u001b[0mwrite\u001b[0m\u001b[1;33m(\u001b[0m\u001b[1;34m\"(uid='{0}')\"\u001b[0m\u001b[1;33m.\u001b[0m\u001b[0mformat\u001b[0m\u001b[1;33m(\u001b[0m\u001b[0mdescriptor\u001b[0m\u001b[1;33m.\u001b[0m\u001b[0muid\u001b[0m\u001b[1;33m)\u001b[0m\u001b[1;33m,\u001b[0m \u001b[1;34m'lightgrey'\u001b[0m\u001b[1;33m)\u001b[0m\u001b[1;33m\u001b[0m\u001b[0m\n",
      "\u001b[1;31mAttributeError\u001b[0m: 'Header' object has no attribute 'event_descriptors'"
     ]
    }
   ],
   "source": [
    "output.summary"
   ]
  },
  {
   "cell_type": "code",
   "execution_count": 25,
   "metadata": {
    "collapsed": false
   },
   "outputs": [
    {
     "data": {
      "text/plain": [
       "<bound method Header.iteritems of <Header scan_id=2032013 run_start_uid='fbb1ee94-bd47-4ea5-9c90-3d4298fec3c2'>>"
      ]
     },
     "execution_count": 25,
     "metadata": {},
     "output_type": "execute_result"
    }
   ],
   "source": [
    "output."
   ]
  },
  {
   "cell_type": "code",
   "execution_count": null,
   "metadata": {
    "collapsed": true
   },
   "outputs": [],
   "source": [
    "output."
   ]
  },
  {
   "cell_type": "code",
   "execution_count": 8,
   "metadata": {
    "collapsed": false
   },
   "outputs": [
    {
     "data": {
      "text/plain": [
       "u'awesome-devs'"
      ]
     },
     "execution_count": 8,
     "metadata": {},
     "output_type": "execute_result"
    }
   ],
   "source": [
    "output.group"
   ]
  },
  {
   "cell_type": "code",
   "execution_count": 10,
   "metadata": {
    "collapsed": false
   },
   "outputs": [
    {
     "data": {
      "text/plain": [
       "\"<Header>\\nOwner: tester\\nGroup: awesome-devs\\nProject: Nikea\\nBeamline ID: testbed\\nScan ID: 2032013 \\nStart Time: 1969-12-31 19:00:00\\nStop Time: 2015-08-04 17:19:13.973951\\nExit Status: success\\nExit Reason: None\\n..Event Descriptor (uid='de1ac30a-d00c-4585-a01f-910a4d3fe718')\\n....Troom: PV:ES:Troom\\n....Tsam: PV:ES:Tsam\\n..Event Descriptor (uid='ecdeeeda-168f-4a90-bc79-74359bfe7bef')\\n....point_det: PV:ES:PointDet\\nrun_start_uid='fbb1ee94-bd47-4ea5-9c90-3d4298fec3c2'\\nrun_stop_uid='132529ed-0b73-4d28-8200-0b49dc8fdd7a'\\nbeamline_config: \\nBeamlineConfig\\n==============\\nconfig_params   :\\ntime            : 0.0                                     \\ntime_as_datetime: 1969-12-31 19:00:00                     \\nuid             : 795f29b7-31b9-4276-97a7-6d01cbdb7a44    \\nevent_descriptors: [<EventDescriptor Document. de1ac30a-d00c-4585-a01f-910a4d3fe718>, <EventDescriptor Document. ecdeeeda-168f-4a90-bc79-74359bfe7bef>]\\nsample: {}\\nstart_time: 0.0\\nstop_time: 1438723153.97\\n\""
      ]
     },
     "execution_count": 10,
     "metadata": {},
     "output_type": "execute_result"
    }
   ],
   "source": [
    "output.summary"
   ]
  },
  {
   "cell_type": "markdown",
   "metadata": {},
   "source": [
    "### Steps for generating Data Exchange Export of synthetic data"
   ]
  },
  {
   "cell_type": "markdown",
   "metadata": {},
   "source": [
    "1. Create hdf5 file to write to"
   ]
  },
  {
   "cell_type": "code",
   "execution_count": 33,
   "metadata": {
    "collapsed": false
   },
   "outputs": [
    {
     "name": "stdout",
     "output_type": "stream",
     "text": [
      "False\n",
      "False\n"
     ]
    }
   ],
   "source": [
    "import os.path\n",
    "\n",
    "file_name = 'synth_img_data_exchange.h5'\n",
    "print os.path.isfile(file_name)\n",
    "\n",
    "file_name_multdata = 'many_synth_img_data_exchange.h5'\n",
    "print os.path.isfile(file_name_multdata)"
   ]
  },
  {
   "cell_type": "code",
   "execution_count": 34,
   "metadata": {
    "collapsed": true
   },
   "outputs": [],
   "source": [
    "import h5py"
   ]
  },
  {
   "cell_type": "markdown",
   "metadata": {},
   "source": [
    "Note: I'd like to persist and constantly or at least consistently use the **with** operator to handle proper opening and closing of the h5 suitcase exchange containers, however, in order to assess, manipulate, view or append the containers, the file object needs to remain open"
   ]
  },
  {
   "cell_type": "markdown",
   "metadata": {},
   "source": [
    "## Create a new h5 container, or open if it already exists"
   ]
  },
  {
   "cell_type": "markdown",
   "metadata": {},
   "source": [
    "### Single Primary Dataset"
   ]
  },
  {
   "cell_type": "code",
   "execution_count": 40,
   "metadata": {
    "collapsed": false
   },
   "outputs": [
    {
     "name": "stdout",
     "output_type": "stream",
     "text": [
      "<HDF5 group \"/exchange\" (0 members)>\n",
      "<HDF5 dataset \"implements\": shape (), type \"|O8\">\n"
     ]
    }
   ],
   "source": [
    "if os.path.isfile(file_name) == False:\n",
    "    with h5py.File(file_name) as f:\n",
    "        exchange = f.create_group(\"exchange\")\n",
    "        measure = f.create_group(\"measurements\")\n",
    "        provenance = f.create_group(\"provenance\")\n",
    "        derivative = f.create_group(\"derivatives\")\n",
    "        implements = f.create_dataset(\"implements\", data = 'exchange : measurements : provenance : derivatives', dtype='str')\n",
    "else:\n",
    "    #with h5py.File(file_name) as f:\n",
    "    f = h5py.File(file_name)\n",
    "    #for grp in [\"exchange\", \"measurements\", \"derivatives\", \"provenance\", \"implements\"]\n",
    "    exchange = f[\"exchange\"]\n",
    "    measure = f[\"measurements\"]\n",
    "    derivatives = f[\"derivatives\"]\n",
    "    provenance = f[\"provenance\"]\n",
    "    implements = f[\"implements\"]\n",
    "\n",
    "print exchange\n",
    "print implements"
   ]
  },
  {
   "cell_type": "code",
   "execution_count": 49,
   "metadata": {
    "collapsed": false
   },
   "outputs": [
    {
     "ename": "ValueError",
     "evalue": "Field names only allowed for compound types",
     "output_type": "error",
     "traceback": [
      "\u001b[1;31m---------------------------------------------------------------------------\u001b[0m",
      "\u001b[1;31mValueError\u001b[0m                                Traceback (most recent call last)",
      "\u001b[1;32m<ipython-input-49-dd669c69c2db>\u001b[0m in \u001b[0;36m<module>\u001b[1;34m()\u001b[0m\n\u001b[1;32m----> 1\u001b[1;33m \u001b[1;32mprint\u001b[0m \u001b[0mf\u001b[0m\u001b[1;33m[\u001b[0m\u001b[1;34m\"implements\"\u001b[0m\u001b[1;33m]\u001b[0m\u001b[1;33m[\u001b[0m\u001b[1;34m\"data\"\u001b[0m\u001b[1;33m]\u001b[0m\u001b[1;33m\u001b[0m\u001b[0m\n\u001b[0m",
      "\u001b[1;32mh5py/_objects.pyx\u001b[0m in \u001b[0;36mh5py._objects.with_phil.wrapper (-------src-dir-------/h5py/_objects.c:2458)\u001b[1;34m()\u001b[0m\n",
      "\u001b[1;32mh5py/_objects.pyx\u001b[0m in \u001b[0;36mh5py._objects.with_phil.wrapper (-------src-dir-------/h5py/_objects.c:2415)\u001b[1;34m()\u001b[0m\n",
      "\u001b[1;32m/home/giltis/anaconda3/envs/suitcase2.7/lib/python2.7/site-packages/h5py/_hl/dataset.pyc\u001b[0m in \u001b[0;36m__getitem__\u001b[1;34m(self, args)\u001b[0m\n\u001b[0;32m    382\u001b[0m             \u001b[1;31m# This is necessary because in the case of array types, NumPy\u001b[0m\u001b[1;33m\u001b[0m\u001b[1;33m\u001b[0m\u001b[0m\n\u001b[0;32m    383\u001b[0m             \u001b[1;31m# discards the array information at the top level.\u001b[0m\u001b[1;33m\u001b[0m\u001b[1;33m\u001b[0m\u001b[0m\n\u001b[1;32m--> 384\u001b[1;33m             \u001b[0mnew_dtype\u001b[0m \u001b[1;33m=\u001b[0m \u001b[0mreadtime_dtype\u001b[0m\u001b[1;33m(\u001b[0m\u001b[0mself\u001b[0m\u001b[1;33m.\u001b[0m\u001b[0mid\u001b[0m\u001b[1;33m.\u001b[0m\u001b[0mdtype\u001b[0m\u001b[1;33m,\u001b[0m \u001b[0mnames\u001b[0m\u001b[1;33m)\u001b[0m\u001b[1;33m\u001b[0m\u001b[0m\n\u001b[0m\u001b[0;32m    385\u001b[0m         \u001b[0mmtype\u001b[0m \u001b[1;33m=\u001b[0m \u001b[0mh5t\u001b[0m\u001b[1;33m.\u001b[0m\u001b[0mpy_create\u001b[0m\u001b[1;33m(\u001b[0m\u001b[0mnew_dtype\u001b[0m\u001b[1;33m)\u001b[0m\u001b[1;33m\u001b[0m\u001b[0m\n\u001b[0;32m    386\u001b[0m \u001b[1;33m\u001b[0m\u001b[0m\n",
      "\u001b[1;32m/home/giltis/anaconda3/envs/suitcase2.7/lib/python2.7/site-packages/h5py/_hl/dataset.pyc\u001b[0m in \u001b[0;36mreadtime_dtype\u001b[1;34m(basetype, names)\u001b[0m\n\u001b[0;32m    368\u001b[0m \u001b[1;33m\u001b[0m\u001b[0m\n\u001b[0;32m    369\u001b[0m             \u001b[1;32mif\u001b[0m \u001b[0mbasetype\u001b[0m\u001b[1;33m.\u001b[0m\u001b[0mnames\u001b[0m \u001b[1;32mis\u001b[0m \u001b[0mNone\u001b[0m\u001b[1;33m:\u001b[0m  \u001b[1;31m# Names provided, but not compound\u001b[0m\u001b[1;33m\u001b[0m\u001b[0m\n\u001b[1;32m--> 370\u001b[1;33m                 \u001b[1;32mraise\u001b[0m \u001b[0mValueError\u001b[0m\u001b[1;33m(\u001b[0m\u001b[1;34m\"Field names only allowed for compound types\"\u001b[0m\u001b[1;33m)\u001b[0m\u001b[1;33m\u001b[0m\u001b[0m\n\u001b[0m\u001b[0;32m    371\u001b[0m \u001b[1;33m\u001b[0m\u001b[0m\n\u001b[0;32m    372\u001b[0m             \u001b[1;32mfor\u001b[0m \u001b[0mname\u001b[0m \u001b[1;32min\u001b[0m \u001b[0mnames\u001b[0m\u001b[1;33m:\u001b[0m  \u001b[1;31m# Check all names are legal\u001b[0m\u001b[1;33m\u001b[0m\u001b[0m\n",
      "\u001b[1;31mValueError\u001b[0m: Field names only allowed for compound types"
     ]
    }
   ],
   "source": [
    "print f[\"implements\"]"
   ]
  },
  {
   "cell_type": "code",
   "execution_count": 30,
   "metadata": {
    "collapsed": false
   },
   "outputs": [],
   "source": [
    "if \"exchange\" in f:\n",
    "    print \"All is right in the world\""
   ]
  },
  {
   "cell_type": "code",
   "execution_count": 23,
   "metadata": {
    "collapsed": false
   },
   "outputs": [
    {
     "data": {
      "text/plain": [
       "[]"
      ]
     },
     "execution_count": 23,
     "metadata": {},
     "output_type": "execute_result"
    }
   ],
   "source": [
    "exchange.keys()"
   ]
  },
  {
   "cell_type": "code",
   "execution_count": 24,
   "metadata": {
    "collapsed": false
   },
   "outputs": [
    {
     "data": {
      "text/plain": [
       "[u'exchange', u'implements', u'measurements', u'provenance']"
      ]
     },
     "execution_count": 24,
     "metadata": {},
     "output_type": "execute_result"
    }
   ],
   "source": [
    "f.keys()"
   ]
  },
  {
   "cell_type": "code",
   "execution_count": 3,
   "metadata": {
    "collapsed": false
   },
   "outputs": [
    {
     "name": "stdout",
     "output_type": "stream",
     "text": [
      "Help on function retrieve in module filestore.commands:\n",
      "\n",
      "retrieve(*args, **kwargs)\n",
      "    Given a resource identifier return the data.\n",
      "    \n",
      "    Parameters\n",
      "    ----------\n",
      "    eid : str\n",
      "        The resource ID (as stored in MDS)\n",
      "    \n",
      "    Returns\n",
      "    -------\n",
      "    data : ndarray\n",
      "        The requested data as a numpy array\n",
      "\n",
      "Help on module filestore.retrieve in filestore:\n",
      "\n",
      "NAME\n",
      "    filestore.retrieve\n",
      "\n",
      "FILE\n",
      "    /home/giltis/dev/my_src/filestore/filestore/retrieve.py\n",
      "\n",
      "CLASSES\n",
      "    __builtin__.dict(__builtin__.object)\n",
      "        HandlerRegistry\n",
      "    __builtin__.object\n",
      "        HandlerBase\n",
      "    \n",
      "    class HandlerBase(__builtin__.object)\n",
      "     |  Base-class for Handlers to provide the boiler plate to\n",
      "     |  make them usable in context managers by provding stubs of\n",
      "     |  ``__enter__``, ``__exit__`` and ``close``\n",
      "     |  \n",
      "     |  Methods defined here:\n",
      "     |  \n",
      "     |  __enter__(self)\n",
      "     |  \n",
      "     |  __exit__(self, exc_type, exc_value, traceback)\n",
      "     |  \n",
      "     |  close(self)\n",
      "     |  \n",
      "     |  ----------------------------------------------------------------------\n",
      "     |  Data descriptors defined here:\n",
      "     |  \n",
      "     |  __dict__\n",
      "     |      dictionary for instance variables (if defined)\n",
      "     |  \n",
      "     |  __weakref__\n",
      "     |      list of weak references to the object (if defined)\n",
      "     |  \n",
      "     |  ----------------------------------------------------------------------\n",
      "     |  Data and other attributes defined here:\n",
      "     |  \n",
      "     |  specs = set([])\n",
      "    \n",
      "    class HandlerRegistry(__builtin__.dict)\n",
      "     |  Sub-class of dict to serve as a registry of available handlers.\n",
      "     |  \n",
      "     |  Doing this as a sub-class to give more readable API and to allow\n",
      "     |  for more sophisticated validation on the way in later\n",
      "     |  \n",
      "     |  Method resolution order:\n",
      "     |      HandlerRegistry\n",
      "     |      __builtin__.dict\n",
      "     |      __builtin__.object\n",
      "     |  \n",
      "     |  Methods defined here:\n",
      "     |  \n",
      "     |  deregister_handler(self, key)\n",
      "     |      Remove a handler from the registry.  No-op to remove\n",
      "     |      a non-existing key.\n",
      "     |      \n",
      "     |      Parameters\n",
      "     |      ----------\n",
      "     |      key : str\n",
      "     |          The spec label to remove\n",
      "     |  \n",
      "     |  register_handler(self, key, handler, overwrite=False)\n",
      "     |      Register a new handler\n",
      "     |      \n",
      "     |      Parameters\n",
      "     |      ----------\n",
      "     |      key : str\n",
      "     |          Name of the spec as it will appear in the FS documents\n",
      "     |      \n",
      "     |      handler : callable\n",
      "     |          This needs to be a callable which when called with the\n",
      "     |          free parameters from the FS documents\n",
      "     |      \n",
      "     |      overwrite : bool, optional\n",
      "     |          If False, raise an exception when re-registering an\n",
      "     |          existing key.  Default is False\n",
      "     |  \n",
      "     |  ----------------------------------------------------------------------\n",
      "     |  Data descriptors defined here:\n",
      "     |  \n",
      "     |  __dict__\n",
      "     |      dictionary for instance variables (if defined)\n",
      "     |  \n",
      "     |  __weakref__\n",
      "     |      list of weak references to the object (if defined)\n",
      "     |  \n",
      "     |  ----------------------------------------------------------------------\n",
      "     |  Methods inherited from __builtin__.dict:\n",
      "     |  \n",
      "     |  __cmp__(...)\n",
      "     |      x.__cmp__(y) <==> cmp(x,y)\n",
      "     |  \n",
      "     |  __contains__(...)\n",
      "     |      D.__contains__(k) -> True if D has a key k, else False\n",
      "     |  \n",
      "     |  __delitem__(...)\n",
      "     |      x.__delitem__(y) <==> del x[y]\n",
      "     |  \n",
      "     |  __eq__(...)\n",
      "     |      x.__eq__(y) <==> x==y\n",
      "     |  \n",
      "     |  __ge__(...)\n",
      "     |      x.__ge__(y) <==> x>=y\n",
      "     |  \n",
      "     |  __getattribute__(...)\n",
      "     |      x.__getattribute__('name') <==> x.name\n",
      "     |  \n",
      "     |  __getitem__(...)\n",
      "     |      x.__getitem__(y) <==> x[y]\n",
      "     |  \n",
      "     |  __gt__(...)\n",
      "     |      x.__gt__(y) <==> x>y\n",
      "     |  \n",
      "     |  __init__(...)\n",
      "     |      x.__init__(...) initializes x; see help(type(x)) for signature\n",
      "     |  \n",
      "     |  __iter__(...)\n",
      "     |      x.__iter__() <==> iter(x)\n",
      "     |  \n",
      "     |  __le__(...)\n",
      "     |      x.__le__(y) <==> x<=y\n",
      "     |  \n",
      "     |  __len__(...)\n",
      "     |      x.__len__() <==> len(x)\n",
      "     |  \n",
      "     |  __lt__(...)\n",
      "     |      x.__lt__(y) <==> x<y\n",
      "     |  \n",
      "     |  __ne__(...)\n",
      "     |      x.__ne__(y) <==> x!=y\n",
      "     |  \n",
      "     |  __repr__(...)\n",
      "     |      x.__repr__() <==> repr(x)\n",
      "     |  \n",
      "     |  __setitem__(...)\n",
      "     |      x.__setitem__(i, y) <==> x[i]=y\n",
      "     |  \n",
      "     |  __sizeof__(...)\n",
      "     |      D.__sizeof__() -> size of D in memory, in bytes\n",
      "     |  \n",
      "     |  clear(...)\n",
      "     |      D.clear() -> None.  Remove all items from D.\n",
      "     |  \n",
      "     |  copy(...)\n",
      "     |      D.copy() -> a shallow copy of D\n",
      "     |  \n",
      "     |  fromkeys(...)\n",
      "     |      dict.fromkeys(S[,v]) -> New dict with keys from S and values equal to v.\n",
      "     |      v defaults to None.\n",
      "     |  \n",
      "     |  get(...)\n",
      "     |      D.get(k[,d]) -> D[k] if k in D, else d.  d defaults to None.\n",
      "     |  \n",
      "     |  has_key(...)\n",
      "     |      D.has_key(k) -> True if D has a key k, else False\n",
      "     |  \n",
      "     |  items(...)\n",
      "     |      D.items() -> list of D's (key, value) pairs, as 2-tuples\n",
      "     |  \n",
      "     |  iteritems(...)\n",
      "     |      D.iteritems() -> an iterator over the (key, value) items of D\n",
      "     |  \n",
      "     |  iterkeys(...)\n",
      "     |      D.iterkeys() -> an iterator over the keys of D\n",
      "     |  \n",
      "     |  itervalues(...)\n",
      "     |      D.itervalues() -> an iterator over the values of D\n",
      "     |  \n",
      "     |  keys(...)\n",
      "     |      D.keys() -> list of D's keys\n",
      "     |  \n",
      "     |  pop(...)\n",
      "     |      D.pop(k[,d]) -> v, remove specified key and return the corresponding value.\n",
      "     |      If key is not found, d is returned if given, otherwise KeyError is raised\n",
      "     |  \n",
      "     |  popitem(...)\n",
      "     |      D.popitem() -> (k, v), remove and return some (key, value) pair as a\n",
      "     |      2-tuple; but raise KeyError if D is empty.\n",
      "     |  \n",
      "     |  setdefault(...)\n",
      "     |      D.setdefault(k[,d]) -> D.get(k,d), also set D[k]=d if k not in D\n",
      "     |  \n",
      "     |  update(...)\n",
      "     |      D.update([E, ]**F) -> None.  Update D from dict/iterable E and F.\n",
      "     |      If E present and has a .keys() method, does:     for k in E: D[k] = E[k]\n",
      "     |      If E present and lacks .keys() method, does:     for (k, v) in E: D[k] = v\n",
      "     |      In either case, this is followed by: for k in F: D[k] = F[k]\n",
      "     |  \n",
      "     |  values(...)\n",
      "     |      D.values() -> list of D's values\n",
      "     |  \n",
      "     |  viewitems(...)\n",
      "     |      D.viewitems() -> a set-like object providing a view on D's items\n",
      "     |  \n",
      "     |  viewkeys(...)\n",
      "     |      D.viewkeys() -> a set-like object providing a view on D's keys\n",
      "     |  \n",
      "     |  viewvalues(...)\n",
      "     |      D.viewvalues() -> an object providing a view on D's values\n",
      "     |  \n",
      "     |  ----------------------------------------------------------------------\n",
      "     |  Data and other attributes inherited from __builtin__.dict:\n",
      "     |  \n",
      "     |  __hash__ = None\n",
      "     |  \n",
      "     |  __new__ = <built-in method __new__ of type object>\n",
      "     |      T.__new__(S, ...) -> a new object with type S, a subtype of T\n",
      "\n",
      "FUNCTIONS\n",
      "    deregister_handler(key)\n",
      "        Remove handler to module-level handler\n",
      "        \n",
      "        Parameters\n",
      "        ----------\n",
      "        key : str\n",
      "            The spec label to remove\n",
      "        \n",
      "        See Also\n",
      "        --------\n",
      "        `register_handler`\n",
      "    \n",
      "    get_data(eid, handle_registry=None)\n",
      "        Given a document from the events collection, get the externally\n",
      "        stored data.\n",
      "        \n",
      "        This may get wrapped up in a class instance, not intended for public\n",
      "        usage as-is\n",
      "        \n",
      "        Parameters\n",
      "        ----------\n",
      "        eid : str\n",
      "            The resource ID (as stored in MDS)\n",
      "        \n",
      "        handle_registry : HandleRegistry or dict, optional\n",
      "            Mapping between spec <-> handler classes, if None, use\n",
      "            module-level registry\n",
      "        \n",
      "        Returns\n",
      "        -------\n",
      "        data : ndarray\n",
      "            The data in ndarray form.\n",
      "    \n",
      "    get_spec_handler(resource, handle_registry=None)\n",
      "        Given a document from the base FS collection return\n",
      "        the proper Handler\n",
      "        \n",
      "        This should get memozied or shoved into a class eventually\n",
      "        to minimize open/close thrashing.\n",
      "        \n",
      "        Parameters\n",
      "        ----------\n",
      "        resource : ObjectId\n",
      "            ObjectId of a resource document\n",
      "        \n",
      "        handle_registry : HandleRegistry or dict, optional\n",
      "            Mapping between spec <-> handler classes, if None, use\n",
      "            module-level registry\n",
      "        \n",
      "        Returns\n",
      "        -------\n",
      "        \n",
      "        handler : callable\n",
      "            An object that when called with the values in the event\n",
      "            document returns the externally stored data\n",
      "    \n",
      "    handler_context(*args, **kwds)\n",
      "        Context manager for temporarily updating the global HandlerRegistry.\n",
      "        This is an alternative to passing HandlerRegistry objects in\n",
      "        as a kwarg.  The global registry is returned to it's prior state\n",
      "        after the context manager exits.\n",
      "        \n",
      "        Parameters\n",
      "        ----------\n",
      "        temp_handlers : dict\n",
      "            spec_name : HandlerClass pairs.\n",
      "        \n",
      "        Examples\n",
      "        --------\n",
      "        To use a different handler for a call to `retrieve` use\n",
      "        the context manager to add (and possibly over-ride existing\n",
      "        handlers) temporarily:\n",
      "        \n",
      "           with handler_context({'syn-spec', SynHandler}):\n",
      "               FS.retrieve(EID)\n",
      "    \n",
      "    register_handler(key, handler, overwrite=False)\n",
      "        Register a handler to be associated with a specific file\n",
      "        specification key.  This controls the dispatch to the\n",
      "        Handler classes based on the `spec` key of the `Resource`\n",
      "        documents.\n",
      "        \n",
      "        Parameters\n",
      "        ----------\n",
      "        key : str\n",
      "            Name of the spec as it will appear in the FS documents\n",
      "        \n",
      "        handler : callable\n",
      "            This needs to be a callable which when called with the\n",
      "            free parameters from the FS documents\n",
      "        \n",
      "        overwrite : bool, optional\n",
      "            If False, raise an exception when re-registering an\n",
      "            existing key.  Default is False\n",
      "        \n",
      "        See Also\n",
      "        --------\n",
      "        `deregister_handler`\n",
      "\n",
      "DATA\n",
      "    absolute_import = _Feature((2, 5, 0, 'alpha', 1), (3, 0, 0, 'alpha', 0...\n",
      "    division = _Feature((2, 2, 0, 'alpha', 2), (3, 0, 0, 'alpha', 0), 8192...\n",
      "    logger = <logging.Logger object>\n",
      "    print_function = _Feature((2, 6, 0, 'alpha', 2), (3, 0, 0, 'alpha', 0)...\n",
      "    unicode_literals = _Feature((2, 6, 0, 'alpha', 2), (3, 0, 0, 'alpha', ...\n",
      "\n",
      "\n"
     ]
    }
   ],
   "source": [
    "help(filestore.api.retrieve)\n",
    "help(filestore.retrieve)"
   ]
  },
  {
   "cell_type": "code",
   "execution_count": 4,
   "metadata": {
    "collapsed": false
   },
   "outputs": [
    {
     "name": "stdout",
     "output_type": "stream",
     "text": [
      "Help on function find_event_descriptors in module metadatastore.commands:\n",
      "\n",
      "find_event_descriptors(*args, **kwargs)\n",
      "    Given search criteria, locate EventDescriptor Documents.\n",
      "    \n",
      "    Parameters\n",
      "    ----------\n",
      "    run_start : metadatastore.document.Document or uid, optional\n",
      "        if ``Document``:\n",
      "            The metadatastore run start document or the metadatastore uid to get\n",
      "            the corresponding run end for\n",
      "        if ``str``:\n",
      "            Globally unique id string provided to metadatastore for the\n",
      "            RunStart Document.\n",
      "    start_time : time-like, optional\n",
      "        time-like representation of the earliest time that an EventDescriptor\n",
      "        was created. Valid options are:\n",
      "           - timestamps --> time.time()\n",
      "           - '2015'\n",
      "           - '2015-01'\n",
      "           - '2015-01-30'\n",
      "           - '2015-03-30 03:00:00'\n",
      "           - datetime.datetime.now()\n",
      "    stop_time : time-like, optional\n",
      "        timestamp of the latest time that an EventDescriptor was created. See\n",
      "        docs for `start_time` for examples.\n",
      "    uid : str, optional\n",
      "        Globally unique id string provided to metadatastore\n",
      "    _id : str or ObjectId, optional\n",
      "        The unique id generated by mongo\n",
      "    \n",
      "    Returns\n",
      "    -------\n",
      "    event_descriptor : iterable of metadatastore.document.Document objects\n",
      "\n"
     ]
    }
   ],
   "source": [
    "help(metadatastore.api.find_event_descriptors)"
   ]
  },
  {
   "cell_type": "markdown",
   "metadata": {
    "collapsed": true
   },
   "source": [
    "### Interaction with reconstructed tomography data"
   ]
  },
  {
   "cell_type": "markdown",
   "metadata": {},
   "source": [
    "#### Adding the external data to file store\n",
    "The data sets we're using in this example were collected at the APS, Sector 13-BMD. Demos focusing on reconstruction, segmentation, visualization, and quantification are available in the Tomography Demos folder included elsewhere in this package.\n",
    "\n",
    "##### Example data sets:\n",
    "1. dry_beadpack_A_recon.volume\n",
    "    - filetype: netCDF\n",
    "    - single 3D volume (precompiled 3D array)\n",
    "2. NSLS_shale_smpl-2_AbvFe.tiff\n",
    "    - filetype: tiff\n",
    "    - single 3D volume (precompiled 3D array)\n",
    "3. vhm.1001.dcm to vhm.1245.dcm\n",
    "    - filetype: dicom\n",
    "    - Image stack of 2D arrays/images"
   ]
  },
  {
   "cell_type": "code",
   "execution_count": null,
   "metadata": {
    "collapsed": true
   },
   "outputs": [],
   "source": []
  }
 ],
 "metadata": {
  "kernelspec": {
   "display_name": "Python 2",
   "language": "python",
   "name": "python2"
  },
  "language_info": {
   "codemirror_mode": {
    "name": "ipython",
    "version": 2
   },
   "file_extension": ".py",
   "mimetype": "text/x-python",
   "name": "python",
   "nbconvert_exporter": "python",
   "pygments_lexer": "ipython2",
   "version": "2.7.10"
  }
 },
 "nbformat": 4,
 "nbformat_minor": 0
}
